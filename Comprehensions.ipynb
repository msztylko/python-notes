{
 "cells": [
  {
   "cell_type": "markdown",
   "id": "b2a5c4b9-7d64-4e1c-b90d-6023535e88c1",
   "metadata": {},
   "source": [
    "# Dictionary comprehension"
   ]
  },
  {
   "cell_type": "markdown",
   "id": "9b2b95b2-de2b-439d-aad1-b41a7f7b31e0",
   "metadata": {},
   "source": [
    "Based on discussion from: https://stackoverflow.com/questions/52542742/why-is-this-loop-faster-than-a-dictionary-comprehension-for-creating-a-dictionar"
   ]
  },
  {
   "cell_type": "markdown",
   "id": "a4fba4f5-9b2d-4f09-bffc-5c5307b58bd4",
   "metadata": {},
   "source": [
    "## Is dict comprehension faster than creating dictionary with a loop?"
   ]
  },
  {
   "cell_type": "code",
   "execution_count": 1,
   "id": "a041ae1b-efe7-4b51-89d9-47dca6f06ec9",
   "metadata": {},
   "outputs": [],
   "source": [
    "a = {'a':'hi','b':'hey','c':'yo'}"
   ]
  },
  {
   "cell_type": "code",
   "execution_count": 2,
   "id": "34bf1b81-9243-47d6-9965-063e8bf2d577",
   "metadata": {},
   "outputs": [
    {
     "name": "stdout",
     "output_type": "stream",
     "text": [
      "160 ns ± 0.601 ns per loop (mean ± std. dev. of 7 runs, 10,000,000 loops each)\n"
     ]
    }
   ],
   "source": [
    "%%timeit\n",
    "b = {}\n",
    "for k, v in a.items():\n",
    "    b[v] = k"
   ]
  },
  {
   "cell_type": "code",
   "execution_count": 3,
   "id": "11ad1938-cb0b-4aaf-aabe-74d58c22bc0c",
   "metadata": {},
   "outputs": [
    {
     "name": "stdout",
     "output_type": "stream",
     "text": [
      "218 ns ± 1.33 ns per loop (mean ± std. dev. of 7 runs, 1,000,000 loops each)\n"
     ]
    }
   ],
   "source": [
    "%%timeit\n",
    "b = {v: k for k, v in a.items()}"
   ]
  },
  {
   "cell_type": "markdown",
   "id": "f567071f-ed0f-410c-9cc2-4e6a2553d1fe",
   "metadata": {},
   "source": [
    "With a dummy exmaple it looks like dict comprehension is slower than looped version, \n",
    "which is a bit counterintuitive. However, the issue here is that this example is way too small to judge the performance. \n",
    "When you check the performance, make sure to run the test on a **good test case with enough data to show the differences.**\n"
   ]
  },
  {
   "cell_type": "code",
   "execution_count": 4,
   "id": "c7279052-e258-4868-ae78-331557709889",
   "metadata": {},
   "outputs": [],
   "source": [
    "from random import choice, randrange\n",
    "from string import ascii_lowercase as letters"
   ]
  },
  {
   "cell_type": "code",
   "execution_count": 5,
   "id": "06d574f0-5b0a-430c-b9a2-4bbb8b188efa",
   "metadata": {},
   "outputs": [],
   "source": [
    "def random_string():\n",
    "    return ''.join([choice(letters) for _ in range(randrange(3, 15))])"
   ]
  },
  {
   "cell_type": "code",
   "execution_count": 6,
   "id": "c77bb39e-961b-4d03-aad7-120c43e48b9a",
   "metadata": {},
   "outputs": [],
   "source": [
    "test_dict = {random_string(): random_string() for _ in range(1000)}"
   ]
  },
  {
   "cell_type": "code",
   "execution_count": 7,
   "id": "d1507666-cf94-4af9-87cd-64273039bcff",
   "metadata": {},
   "outputs": [
    {
     "name": "stdout",
     "output_type": "stream",
     "text": [
      "39.4 µs ± 434 ns per loop (mean ± std. dev. of 7 runs, 10,000 loops each)\n"
     ]
    }
   ],
   "source": [
    "%%timeit\n",
    "b = {}\n",
    "for k, v in test_dict.items():\n",
    "    b[v] = k"
   ]
  },
  {
   "cell_type": "code",
   "execution_count": 8,
   "id": "0f58c712-8a0d-472c-a43c-acf50ba05530",
   "metadata": {},
   "outputs": [
    {
     "name": "stdout",
     "output_type": "stream",
     "text": [
      "36.9 µs ± 402 ns per loop (mean ± std. dev. of 7 runs, 10,000 loops each)\n"
     ]
    }
   ],
   "source": [
    "%%timeit\n",
    "b = {v: k for k, v in test_dict.items()}"
   ]
  },
  {
   "cell_type": "markdown",
   "id": "0a03fd76-e14c-4f8d-abf5-5fe871710d1e",
   "metadata": {},
   "source": [
    "With 1000 keys in test dictionary, dict comprehension is in fact slightly faster."
   ]
  },
  {
   "cell_type": "code",
   "execution_count": 9,
   "id": "48fc7fec-9558-483d-b4ba-8116b25e1e4a",
   "metadata": {},
   "outputs": [],
   "source": [
    "test_dict = {random_string(): random_string() for _ in range(100000)}"
   ]
  },
  {
   "cell_type": "code",
   "execution_count": 10,
   "id": "dd5bce47-0379-440e-9b26-33a08554fe53",
   "metadata": {},
   "outputs": [
    {
     "name": "stdout",
     "output_type": "stream",
     "text": [
      "5.72 ms ± 108 µs per loop (mean ± std. dev. of 7 runs, 100 loops each)\n"
     ]
    }
   ],
   "source": [
    "%%timeit\n",
    "b = {}\n",
    "for k, v in test_dict.items():\n",
    "    b[v] = k"
   ]
  },
  {
   "cell_type": "code",
   "execution_count": 11,
   "id": "6eeb4728-763b-473c-9d53-eff45c4bbafc",
   "metadata": {},
   "outputs": [
    {
     "name": "stdout",
     "output_type": "stream",
     "text": [
      "5.66 ms ± 83.8 µs per loop (mean ± std. dev. of 7 runs, 100 loops each)\n"
     ]
    }
   ],
   "source": [
    "%%timeit\n",
    "b = {v: k for k, v in test_dict.items()}"
   ]
  },
  {
   "cell_type": "markdown",
   "id": "e0d48f6f-1df2-43ab-a39a-60e8b09f9f72",
   "metadata": {},
   "source": [
    "With 100 000 keys the differnece gets even bigger. So in practice, it is better to use dict comprehension, because:  \n",
    " - it is slightly faster than looped version for > 1000 keys\n",
    " - for smaller dictionaries perfomance is neglibable anyway"
   ]
  },
  {
   "cell_type": "markdown",
   "id": "4d22db2e-47d4-41d0-a2ee-f5d55388ae93",
   "metadata": {},
   "source": [
    "## Why is dict comprehension slower for small dictionaries?"
   ]
  },
  {
   "cell_type": "markdown",
   "id": "6d7c2eef-da5c-47cc-861c-87806561c978",
   "metadata": {},
   "source": [
    "What is different in execution of dict comprehension and looped version?\n",
    "Can we find this differnece by looking at the disassembled Python bytecodes?"
   ]
  },
  {
   "cell_type": "code",
   "execution_count": 12,
   "id": "68fb666e-a58f-45bf-96d0-7578d1248cfb",
   "metadata": {},
   "outputs": [],
   "source": [
    "import dis"
   ]
  },
  {
   "cell_type": "code",
   "execution_count": 13,
   "id": "109d9e3f-ace1-4657-b4be-8a362afa139c",
   "metadata": {
    "tags": []
   },
   "outputs": [],
   "source": [
    "looped = '''\\\n",
    "... b = {}\n",
    "... for k,v in test_dict.items():\n",
    "...     b[v]=k\n",
    "... '''"
   ]
  },
  {
   "cell_type": "code",
   "execution_count": 14,
   "id": "11e7f2bd-9f2d-430d-96a0-546f44c5fe5c",
   "metadata": {},
   "outputs": [
    {
     "name": "stdout",
     "output_type": "stream",
     "text": [
      "  1           0 BUILD_MAP                0\n",
      "              2 STORE_NAME               0 (b)\n",
      "\n",
      "  2           4 LOAD_NAME                1 (test_dict)\n",
      "              6 LOAD_METHOD              2 (items)\n",
      "              8 CALL_METHOD              0\n",
      "             10 GET_ITER\n",
      "        >>   12 FOR_ITER                16 (to 30)\n",
      "             14 UNPACK_SEQUENCE          2\n",
      "             16 STORE_NAME               3 (k)\n",
      "             18 STORE_NAME               4 (v)\n",
      "\n",
      "  3          20 LOAD_NAME                3 (k)\n",
      "             22 LOAD_NAME                0 (b)\n",
      "             24 LOAD_NAME                4 (v)\n",
      "             26 STORE_SUBSCR\n",
      "             28 JUMP_ABSOLUTE           12\n",
      "        >>   30 LOAD_CONST               0 (None)\n",
      "             32 RETURN_VALUE\n"
     ]
    }
   ],
   "source": [
    "dis.dis(looped)"
   ]
  },
  {
   "cell_type": "code",
   "execution_count": 15,
   "id": "1b5f7f17-839d-4a5c-95e4-8f02561c1baf",
   "metadata": {},
   "outputs": [],
   "source": [
    "dictcomp = '''b = {v: k for k, v in test_dict.items()}'''"
   ]
  },
  {
   "cell_type": "code",
   "execution_count": 16,
   "id": "8658ad8e-f9cf-482c-bb7e-7bc97c806450",
   "metadata": {},
   "outputs": [
    {
     "name": "stdout",
     "output_type": "stream",
     "text": [
      "  1           0 LOAD_CONST               0 (<code object <dictcomp> at 0x106993f50, file \"<dis>\", line 1>)\n",
      "              2 LOAD_CONST               1 ('<dictcomp>')\n",
      "              4 MAKE_FUNCTION            0\n",
      "              6 LOAD_NAME                0 (test_dict)\n",
      "              8 LOAD_METHOD              1 (items)\n",
      "             10 CALL_METHOD              0\n",
      "             12 GET_ITER\n",
      "             14 CALL_FUNCTION            1\n",
      "             16 STORE_NAME               2 (b)\n",
      "             18 LOAD_CONST               2 (None)\n",
      "             20 RETURN_VALUE\n",
      "\n",
      "Disassembly of <code object <dictcomp> at 0x106993f50, file \"<dis>\", line 1>:\n",
      "  1           0 BUILD_MAP                0\n",
      "              2 LOAD_FAST                0 (.0)\n",
      "        >>    4 FOR_ITER                14 (to 20)\n",
      "              6 UNPACK_SEQUENCE          2\n",
      "              8 STORE_FAST               1 (k)\n",
      "             10 STORE_FAST               2 (v)\n",
      "             12 LOAD_FAST                2 (v)\n",
      "             14 LOAD_FAST                1 (k)\n",
      "             16 MAP_ADD                  2\n",
      "             18 JUMP_ABSOLUTE            4\n",
      "        >>   20 RETURN_VALUE\n"
     ]
    }
   ],
   "source": [
    "dis.dis(dictcomp)"
   ]
  },
  {
   "cell_type": "markdown",
   "id": "5bd46c60-7b78-4ed9-8180-29461f08fb1e",
   "metadata": {},
   "source": [
    "The main difference comes from `MAKE_FUNCTION` and `CALL_FUNCTION` opcodes in the top-level bytecode for the dict comprehension"
   ]
  },
  {
   "cell_type": "markdown",
   "id": "6fed1ff8-87e6-4a4e-9f9d-0b744b605e40",
   "metadata": {},
   "source": [
    "The `MAKE_FUNCTION` and `CALL_FUNCTION` opcodes the dict comphrension has to execute is dominates execution time for smaller dictionaries."
   ]
  },
  {
   "cell_type": "code",
   "execution_count": 17,
   "id": "03790e58-167e-4a5a-9624-b70ffc4b475e",
   "metadata": {},
   "outputs": [],
   "source": [
    "make_and_call = '(lambda i: None)(None)'"
   ]
  },
  {
   "cell_type": "code",
   "execution_count": 18,
   "id": "4395f416-0aa4-4fb3-8424-921fb3bb883d",
   "metadata": {},
   "outputs": [
    {
     "name": "stdout",
     "output_type": "stream",
     "text": [
      "  1           0 LOAD_CONST               0 (<code object <lambda> at 0x1068ffbe0, file \"<dis>\", line 1>)\n",
      "              2 LOAD_CONST               1 ('<lambda>')\n",
      "              4 MAKE_FUNCTION            0\n",
      "              6 LOAD_CONST               2 (None)\n",
      "              8 CALL_FUNCTION            1\n",
      "             10 RETURN_VALUE\n",
      "\n",
      "Disassembly of <code object <lambda> at 0x1068ffbe0, file \"<dis>\", line 1>:\n",
      "  1           0 LOAD_CONST               0 (None)\n",
      "              2 RETURN_VALUE\n"
     ]
    }
   ],
   "source": [
    "dis.dis(make_and_call)"
   ]
  },
  {
   "cell_type": "code",
   "execution_count": 19,
   "id": "56439899-3106-4471-8a7a-bd2fa392b08d",
   "metadata": {},
   "outputs": [
    {
     "name": "stdout",
     "output_type": "stream",
     "text": [
      "10.8 ns ± 0.0503 ns per loop (mean ± std. dev. of 7 runs, 100,000,000 loops each)\n"
     ]
    }
   ],
   "source": [
    "%%timeit\n",
    "make_and_call"
   ]
  },
  {
   "cell_type": "markdown",
   "id": "1453ef87-19dd-4a99-8101-48d39f056b68",
   "metadata": {},
   "source": [
    "# List comprehension"
   ]
  },
  {
   "cell_type": "markdown",
   "id": "2954bc9f-6bf0-4a1d-9794-abf17e20aa47",
   "metadata": {},
   "source": [
    "What about the performance of list comprehensions?"
   ]
  },
  {
   "cell_type": "code",
   "execution_count": 20,
   "id": "ea9527f1-b67b-4c1b-b69e-f4b3122740b6",
   "metadata": {},
   "outputs": [],
   "source": [
    "def squares(values):\n",
    "    lst = []\n",
    "    for x in range(values):\n",
    "        lst.append(x*x)\n",
    "    return lst"
   ]
  },
  {
   "cell_type": "code",
   "execution_count": 21,
   "id": "a712ace8-4266-4721-be30-46dbea7ff6c8",
   "metadata": {},
   "outputs": [
    {
     "name": "stdout",
     "output_type": "stream",
     "text": [
      "47.9 µs ± 148 ns per loop (mean ± std. dev. of 7 runs, 10,000 loops each)\n"
     ]
    }
   ],
   "source": [
    "%%timeit\n",
    "squares(1000)"
   ]
  },
  {
   "cell_type": "code",
   "execution_count": 22,
   "id": "0ed6e986-56d9-4ede-a88c-3fd3abcfedf3",
   "metadata": {},
   "outputs": [],
   "source": [
    "def squares_comp(values):\n",
    "    return [x*x for x in range(values)]"
   ]
  },
  {
   "cell_type": "code",
   "execution_count": 23,
   "id": "453054b7-42b0-4072-b937-4afab9138454",
   "metadata": {},
   "outputs": [
    {
     "name": "stdout",
     "output_type": "stream",
     "text": [
      "30.4 µs ± 89.9 ns per loop (mean ± std. dev. of 7 runs, 10,000 loops each)\n"
     ]
    }
   ],
   "source": [
    "%%timeit\n",
    "squares_comp(1000)"
   ]
  },
  {
   "cell_type": "markdown",
   "id": "8b2500db-1b68-407c-9b38-ffdb27fda35a",
   "metadata": {},
   "source": [
    "List comprehension is clearly fast. Can we understand it by comparing the bytecode?"
   ]
  },
  {
   "cell_type": "code",
   "execution_count": 24,
   "id": "1229c073-e715-4222-8fdc-e95113362b30",
   "metadata": {},
   "outputs": [
    {
     "name": "stdout",
     "output_type": "stream",
     "text": [
      "  2           0 BUILD_LIST               0\n",
      "              2 STORE_FAST               1 (lst)\n",
      "\n",
      "  3           4 LOAD_GLOBAL              0 (range)\n",
      "              6 LOAD_FAST                0 (values)\n",
      "              8 CALL_FUNCTION            1\n",
      "             10 GET_ITER\n",
      "        >>   12 FOR_ITER                18 (to 32)\n",
      "             14 STORE_FAST               2 (x)\n",
      "\n",
      "  4          16 LOAD_FAST                1 (lst)\n",
      "             18 LOAD_METHOD              1 (append)\n",
      "             20 LOAD_FAST                2 (x)\n",
      "             22 LOAD_FAST                2 (x)\n",
      "             24 BINARY_MULTIPLY\n",
      "             26 CALL_METHOD              1\n",
      "             28 POP_TOP\n",
      "             30 JUMP_ABSOLUTE           12\n",
      "\n",
      "  5     >>   32 LOAD_FAST                1 (lst)\n",
      "             34 RETURN_VALUE\n"
     ]
    }
   ],
   "source": [
    "dis.dis(squares)"
   ]
  },
  {
   "cell_type": "code",
   "execution_count": 25,
   "id": "1b098ba6-142c-4f68-8fb2-aa3d239eb773",
   "metadata": {},
   "outputs": [
    {
     "name": "stdout",
     "output_type": "stream",
     "text": [
      "  2           0 LOAD_CONST               1 (<code object <listcomp> at 0x1069b8030, file \"/var/folders/0g/n35wm48d37bcjss5tyrt9l040000gn/T/ipykernel_50231/2847316437.py\", line 2>)\n",
      "              2 LOAD_CONST               2 ('squares_comp.<locals>.<listcomp>')\n",
      "              4 MAKE_FUNCTION            0\n",
      "              6 LOAD_GLOBAL              0 (range)\n",
      "              8 LOAD_FAST                0 (values)\n",
      "             10 CALL_FUNCTION            1\n",
      "             12 GET_ITER\n",
      "             14 CALL_FUNCTION            1\n",
      "             16 RETURN_VALUE\n",
      "\n",
      "Disassembly of <code object <listcomp> at 0x1069b8030, file \"/var/folders/0g/n35wm48d37bcjss5tyrt9l040000gn/T/ipykernel_50231/2847316437.py\", line 2>:\n",
      "  2           0 BUILD_LIST               0\n",
      "              2 LOAD_FAST                0 (.0)\n",
      "        >>    4 FOR_ITER                12 (to 18)\n",
      "              6 STORE_FAST               1 (x)\n",
      "              8 LOAD_FAST                1 (x)\n",
      "             10 LOAD_FAST                1 (x)\n",
      "             12 BINARY_MULTIPLY\n",
      "             14 LIST_APPEND              2\n",
      "             16 JUMP_ABSOLUTE            4\n",
      "        >>   18 RETURN_VALUE\n"
     ]
    }
   ],
   "source": [
    "dis.dis(squares_comp)"
   ]
  },
  {
   "cell_type": "markdown",
   "id": "af8cb7b4-8a8c-4ebe-bf24-712c84dac6b6",
   "metadata": {},
   "source": [
    "The `squares` function looks up the `append` method of the list in each iteration, and calls it.\n",
    "The `append` function has to grow the list by one element each time itis called."
   ]
  },
  {
   "cell_type": "markdown",
   "id": "93093d55-b5e5-4667-a2cb-5a1700aeaca3",
   "metadata": {},
   "source": [
    "The list comprehension on the other hand doesn't have to do that work. Instead, python uses `LIST_APPEND` bytecode, which uses the C API to append a new element to the list, without having to do the lookup and a python call to the function."
   ]
  }
 ],
 "metadata": {
  "kernelspec": {
   "display_name": "Python 3 (ipykernel)",
   "language": "python",
   "name": "python3"
  },
  "language_info": {
   "codemirror_mode": {
    "name": "ipython",
    "version": 3
   },
   "file_extension": ".py",
   "mimetype": "text/x-python",
   "name": "python",
   "nbconvert_exporter": "python",
   "pygments_lexer": "ipython3",
   "version": "3.8.9"
  }
 },
 "nbformat": 4,
 "nbformat_minor": 5
}
