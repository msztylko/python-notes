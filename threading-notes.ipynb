{
 "cells": [
  {
   "cell_type": "markdown",
   "id": "42cb4367-09d1-4f33-a53f-6e080a60d5b9",
   "metadata": {
    "tags": []
   },
   "source": [
    "# \"Python is slow\""
   ]
  },
  {
   "cell_type": "code",
   "execution_count": 1,
   "id": "341e50de-b402-48ad-85cd-4cc9aafe1013",
   "metadata": {},
   "outputs": [],
   "source": [
    "def is_prime(number):\n",
    "    for i in range(2, number):\n",
    "        if number % i == 0:\n",
    "            return False\n",
    "    return True"
   ]
  },
  {
   "cell_type": "code",
   "execution_count": 2,
   "id": "11119667-3af8-4a50-932b-8e95bd01944b",
   "metadata": {},
   "outputs": [],
   "source": [
    "numbers = [7853,7867,7873,7877,7879,7883,7901,7907,7919]"
   ]
  },
  {
   "cell_type": "code",
   "execution_count": 3,
   "id": "106b8f50-80f5-497a-94be-69217854bbf2",
   "metadata": {},
   "outputs": [
    {
     "name": "stdout",
     "output_type": "stream",
     "text": [
      "3.85 ms ± 41.4 µs per loop (mean ± std. dev. of 7 runs, 100 loops each)\n"
     ]
    }
   ],
   "source": [
    "%%timeit\n",
    "for number in numbers:\n",
    "    is_prime(number)"
   ]
  },
  {
   "cell_type": "code",
   "execution_count": 4,
   "id": "3d77cc7d-1d96-44f5-a506-25a7c9986141",
   "metadata": {},
   "outputs": [],
   "source": [
    "import threading"
   ]
  },
  {
   "cell_type": "code",
   "execution_count": 5,
   "id": "647b69be-7b0c-4cb8-9209-156e9db548f7",
   "metadata": {},
   "outputs": [
    {
     "name": "stdout",
     "output_type": "stream",
     "text": [
      "14.5 ms ± 148 µs per loop (mean ± std. dev. of 7 runs, 100 loops each)\n"
     ]
    }
   ],
   "source": [
    "%%timeit\n",
    "threads = []\n",
    "for number in numbers:\n",
    "    thread = threading.Thread(target=is_prime, args=(number,))\n",
    "    thread.start()\n",
    "    threads.append(thread)\n",
    "\n",
    "for thread in threads:\n",
    "    thread.join()"
   ]
  },
  {
   "cell_type": "markdown",
   "id": "b3406eed-67f1-4b3e-a77a-b3c82eb55463",
   "metadata": {},
   "source": [
    "### **don't use threads for CPU-bound tasks**"
   ]
  },
  {
   "cell_type": "markdown",
   "id": "a4e2acc3-a9bb-4ddc-8595-8f94e1f86806",
   "metadata": {},
   "source": [
    "# Why do we even have threading in Python?"
   ]
  },
  {
   "cell_type": "markdown",
   "id": "578d8d92-3f4a-4ba2-b7a2-83f646675f0b",
   "metadata": {},
   "source": [
    "Threads are useful for I/O work"
   ]
  },
  {
   "cell_type": "code",
   "execution_count": 6,
   "id": "eb8473c4-d633-472b-963c-fd7c3c2acf78",
   "metadata": {},
   "outputs": [],
   "source": [
    "import time"
   ]
  },
  {
   "cell_type": "code",
   "execution_count": 7,
   "id": "e945c60a-7297-446c-bc59-29fe67a0c5f2",
   "metadata": {},
   "outputs": [
    {
     "name": "stdout",
     "output_type": "stream",
     "text": [
      "1 s ± 121 µs per loop (mean ± std. dev. of 7 runs, 1 loop each)\n"
     ]
    }
   ],
   "source": [
    "%%timeit\n",
    "for _ in range(10):\n",
    "    time.sleep(0.1)"
   ]
  },
  {
   "cell_type": "code",
   "execution_count": 8,
   "id": "b55f5735-ffb7-4490-9abe-5afb8337e716",
   "metadata": {},
   "outputs": [
    {
     "name": "stdout",
     "output_type": "stream",
     "text": [
      "104 ms ± 121 µs per loop (mean ± std. dev. of 7 runs, 10 loops each)\n"
     ]
    }
   ],
   "source": [
    "%%timeit\n",
    "threads = []\n",
    "for _ in range(10):\n",
    "    thread = threading.Thread(target=time.sleep, args=(0.1,))\n",
    "    thread.start()\n",
    "    threads.append(thread)\n",
    "    \n",
    "for thread in threads:\n",
    "    thread.join()"
   ]
  },
  {
   "cell_type": "markdown",
   "id": "20810e7b-8e73-43cb-bd4f-8b3b0b0b51f3",
   "metadata": {},
   "source": [
    "### **Use threads to speed up I/O tasks**"
   ]
  },
  {
   "cell_type": "markdown",
   "id": "829c534d-1d04-4b5d-8281-4ed0a2f9e400",
   "metadata": {},
   "source": [
    "# More examples of I/O that is faster with threading"
   ]
  },
  {
   "cell_type": "code",
   "execution_count": 9,
   "id": "a641c5c2-ed42-41c0-94b5-42ebac7d2d51",
   "metadata": {},
   "outputs": [],
   "source": [
    "# to be continued... "
   ]
  },
  {
   "cell_type": "markdown",
   "id": "41b497ff-5342-4a36-bddd-210111c5513b",
   "metadata": {},
   "source": [
    "# I don't have to worry about race conditions if I have GIL, right?"
   ]
  },
  {
   "cell_type": "markdown",
   "id": "3ad7165f-24c1-4902-8c79-8cc236fa954c",
   "metadata": {},
   "source": [
    "Not quite"
   ]
  },
  {
   "cell_type": "code",
   "execution_count": 10,
   "id": "2d4fdf6a-0420-418f-a87a-d18f6e7c9066",
   "metadata": {},
   "outputs": [],
   "source": [
    "class Counter:\n",
    "    def __init__(self):\n",
    "        self.count = 0\n",
    "        \n",
    "    def increment(self):\n",
    "        self.count += 1"
   ]
  },
  {
   "cell_type": "code",
   "execution_count": 11,
   "id": "35c7d868-366a-4f22-842e-a37c6168e3be",
   "metadata": {},
   "outputs": [],
   "source": [
    "def worker(wid, how_many, counter):\n",
    "    for _ in range(how_many):\n",
    "        counter.increment()"
   ]
  },
  {
   "cell_type": "code",
   "execution_count": 12,
   "id": "9ab81a0c-92b8-4777-883d-835a5fa5dbab",
   "metadata": {},
   "outputs": [],
   "source": [
    "how_many = 10**5\n",
    "counter = Counter()"
   ]
  },
  {
   "cell_type": "code",
   "execution_count": 13,
   "id": "27781688-8050-4b03-93e2-da6d9f77cfb2",
   "metadata": {},
   "outputs": [],
   "source": [
    "threads = []\n",
    "NUM_THREADS = 5\n",
    "for i in range(NUM_THREADS):\n",
    "    thread = threading.Thread(target=worker, args=(i, how_many,counter))\n",
    "    threads.append(thread)\n",
    "    thread.start()\n",
    "    \n",
    "for thread in threads:\n",
    "    thread.join()"
   ]
  },
  {
   "cell_type": "code",
   "execution_count": 14,
   "id": "ad1c86bb-d673-4a62-b350-9ef3c1ef2104",
   "metadata": {},
   "outputs": [
    {
     "name": "stdout",
     "output_type": "stream",
     "text": [
      "Counter should be 500000, got 425917\n"
     ]
    }
   ],
   "source": [
    "print(f'Counter should be {NUM_THREADS*how_many}, got {counter.count}')"
   ]
  },
  {
   "cell_type": "markdown",
   "id": "2530d126-41ca-4feb-8720-ae5ee8453748",
   "metadata": {},
   "source": [
    "The issue is that while increment() looks like a atomic operation it consist of several bytecode operations that can be interrupted by various threads"
   ]
  },
  {
   "cell_type": "code",
   "execution_count": 15,
   "id": "1f4094e1-3495-47d3-b120-bb2e2f503269",
   "metadata": {},
   "outputs": [],
   "source": [
    "import dis"
   ]
  },
  {
   "cell_type": "code",
   "execution_count": 16,
   "id": "f5e23e61-6bc7-4958-8a5a-230dddf04ebb",
   "metadata": {},
   "outputs": [
    {
     "name": "stdout",
     "output_type": "stream",
     "text": [
      "  6           0 LOAD_FAST                0 (self)\n",
      "              2 DUP_TOP\n",
      "              4 LOAD_ATTR                0 (count)\n",
      "              6 LOAD_CONST               1 (1)\n",
      "              8 INPLACE_ADD\n",
      "             10 ROT_TWO\n",
      "             12 STORE_ATTR               0 (count)\n",
      "             14 LOAD_CONST               0 (None)\n",
      "             16 RETURN_VALUE\n"
     ]
    }
   ],
   "source": [
    "dis.dis(counter.increment)"
   ]
  },
  {
   "cell_type": "markdown",
   "id": "303640b2-f447-476a-8cc1-e708eaeb77ac",
   "metadata": {},
   "source": [
    "Example from `Effective Python: 90 Specific Ways to Write`\n",
    "```python\n",
    "counter.count += 1\n",
    "```\n",
    "\n",
    "corresponds to\n",
    "```python\n",
    "value = getattr(counter, 'count')  \n",
    "result = value + 1  \n",
    "setattr(counter, 'count', result)\n",
    "```"
   ]
  },
  {
   "cell_type": "markdown",
   "id": "ac9db6bc-c37c-4a3b-8b80-452a8b389b89",
   "metadata": {},
   "source": [
    "Example of such interruption:\n",
    "\n",
    "Running in Thread A  \n",
    "```python\n",
    "value_a = getattr(counter, 'count')\n",
    "```  \n",
    "Context switch to Thread B  \n",
    "```python\n",
    "value_b = getattr(counter, 'count')  \n",
    "result_b = value_b + 1  \n",
    "setattr(counter, 'count', result_b)  \n",
    "```\n",
    "Context switch back to Thread A  \n",
    "```python\n",
    "result_a = value_a + 1  \n",
    "setattr(counter, 'count', result_a)\n",
    "```"
   ]
  },
  {
   "cell_type": "markdown",
   "id": "80862c27-fa0d-400e-a76b-99560057c200",
   "metadata": {},
   "source": [
    "To prevent data races like this one, we should use locks"
   ]
  },
  {
   "cell_type": "code",
   "execution_count": 17,
   "id": "6c76ed7a-71ac-4e32-886f-b0e218063727",
   "metadata": {},
   "outputs": [],
   "source": [
    "from threading import Lock\n",
    "\n",
    "class LockingCounter:\n",
    "    def __init__(self):\n",
    "        self.lock = Lock()\n",
    "        self.count = 0\n",
    "        \n",
    "    def increment(self):\n",
    "        with self.lock:\n",
    "            self.count += 1"
   ]
  },
  {
   "cell_type": "code",
   "execution_count": 18,
   "id": "8f8e70ac-da82-45c4-b68e-1953c183476d",
   "metadata": {},
   "outputs": [],
   "source": [
    "counter = LockingCounter()\n",
    "threads = []\n",
    "NUM_THREADS = 5\n",
    "for i in range(NUM_THREADS):\n",
    "    thread = threading.Thread(target=worker, args=(i, how_many,counter))\n",
    "    threads.append(thread)\n",
    "    thread.start()\n",
    "    \n",
    "for thread in threads:\n",
    "    thread.join()"
   ]
  },
  {
   "cell_type": "code",
   "execution_count": 19,
   "id": "ad7367a8-5333-4079-8525-cf66d9fce97f",
   "metadata": {},
   "outputs": [
    {
     "name": "stdout",
     "output_type": "stream",
     "text": [
      "Counter should be 500000, got 500000\n"
     ]
    }
   ],
   "source": [
    "print(f'Counter should be {NUM_THREADS*how_many}, got {counter.count}')"
   ]
  },
  {
   "cell_type": "markdown",
   "id": "95c5f901-e6bc-4fe9-8c1c-fb7f4aadc119",
   "metadata": {},
   "source": [
    "### **use locks to safely update data from multiple threads**"
   ]
  },
  {
   "cell_type": "markdown",
   "id": "582377fc-fc27-4c7e-96d3-206ee604faa1",
   "metadata": {},
   "source": [
    "# Coordination between threads"
   ]
  },
  {
   "cell_type": "markdown",
   "id": "e6f71fea-7a89-416e-bb29-47cbf225285a",
   "metadata": {},
   "source": [
    "## Cooridnation example - pipeline"
   ]
  },
  {
   "cell_type": "code",
   "execution_count": 20,
   "id": "f5184e00-c8d0-4682-9f4c-06c3dab20f22",
   "metadata": {},
   "outputs": [],
   "source": [
    "import random"
   ]
  },
  {
   "cell_type": "code",
   "execution_count": 21,
   "id": "cbfa66a7-f6ef-4d99-9c8c-d32346807bae",
   "metadata": {},
   "outputs": [],
   "source": [
    "def init_number(number):\n",
    "    return random.random()"
   ]
  },
  {
   "cell_type": "code",
   "execution_count": 22,
   "id": "984c8660-35b8-4193-bfaf-1a106b15d7d0",
   "metadata": {},
   "outputs": [],
   "source": [
    "def multiply_by_2(number):\n",
    "    return 2 * number"
   ]
  },
  {
   "cell_type": "code",
   "execution_count": 23,
   "id": "6007fd59-9b16-4719-b56c-96a8324b106a",
   "metadata": {},
   "outputs": [],
   "source": [
    "def add_1(number):\n",
    "    return number + 1"
   ]
  },
  {
   "cell_type": "markdown",
   "id": "d4962cd2-62db-4a2a-9080-f01ac40dcfbe",
   "metadata": {},
   "source": [
    "Distribute work between pipeline phases"
   ]
  },
  {
   "cell_type": "code",
   "execution_count": 24,
   "id": "1656d73f-0507-484e-ac8a-c9d3e2634680",
   "metadata": {},
   "outputs": [],
   "source": [
    "from collections import deque\n",
    "from threading import Lock\n",
    "\n",
    "class MyQueue:\n",
    "    def __init__(self):\n",
    "        self.numbers = deque()\n",
    "        self.lock = Lock()\n",
    "        \n",
    "    def put(self, number):\n",
    "        with self.lock:\n",
    "            self.numbers.append(number)\n",
    "            \n",
    "    def get(self):\n",
    "        with self.lock:\n",
    "            return self.numbers.popleft()"
   ]
  },
  {
   "cell_type": "markdown",
   "id": "580c8d80-1bf8-480d-a7d2-5dfb477d43a0",
   "metadata": {},
   "source": [
    "Each phase of the pipeline will be represented as a Python thread that takes work form one queue like this, runs a function on it, and puts the result on another queue."
   ]
  },
  {
   "cell_type": "code",
   "execution_count": 25,
   "id": "98eef186-a27c-4292-90e2-3b9c2d9d7537",
   "metadata": {},
   "outputs": [],
   "source": [
    "from threading import Thread\n",
    "import time\n",
    "\n",
    "class Worker(Thread):\n",
    "    def __init__(self, func, in_queue, out_queue):\n",
    "        super().__init__()\n",
    "        self.func = func\n",
    "        self.in_queue = in_queue\n",
    "        self.out_queue = out_queue\n",
    "        self.polled_count = 0\n",
    "        self.work_done = 0\n",
    "        \n",
    "    def run(self):\n",
    "        while True:\n",
    "            # for statistics \n",
    "            self.polled_count += 1\n",
    "            try:\n",
    "                item = self.in_queue.get()\n",
    "            except IndexError:\n",
    "                # wait a bit if the input queue is empty\n",
    "                time.sleep(0.01)\n",
    "            else:\n",
    "                result = self.func(item)\n",
    "                self.out_queue.put(result)\n",
    "                self.work_done += 1\n",
    "                "
   ]
  },
  {
   "cell_type": "code",
   "execution_count": 26,
   "id": "c40fe82c-49aa-4d87-9f94-a521c6cdebe7",
   "metadata": {},
   "outputs": [],
   "source": [
    "init_queue = MyQueue()\n",
    "multiply_queue = MyQueue()\n",
    "add_queue = MyQueue()\n",
    "done_queue = MyQueue()\n",
    "threads = [\n",
    "    Worker(init_number, init_queue, multiply_queue),\n",
    "    Worker(multiply_by_2, multiply_queue, add_queue),\n",
    "    Worker(add_1, add_queue, done_queue),\n",
    "]"
   ]
  },
  {
   "cell_type": "code",
   "execution_count": 27,
   "id": "fb7bfe0d-d28a-4e31-9cd6-c36197c040dd",
   "metadata": {},
   "outputs": [],
   "source": [
    "for thread in threads:\n",
    "    thread.start()"
   ]
  },
  {
   "cell_type": "code",
   "execution_count": 28,
   "id": "fce680e3-67d5-4c18-be57-7c0ac6fef21c",
   "metadata": {},
   "outputs": [],
   "source": [
    "# dummy work to start the pipeline\n",
    "for _ in range(1000):\n",
    "    init_queue.put(None)"
   ]
  },
  {
   "cell_type": "code",
   "execution_count": 29,
   "id": "bfaa7c0a-017c-41d6-af9c-27f104c7cd3a",
   "metadata": {},
   "outputs": [],
   "source": [
    "while len(done_queue.numbers) < 1000:\n",
    "    # do something useful\n",
    "    pass"
   ]
  },
  {
   "cell_type": "code",
   "execution_count": 30,
   "id": "9dd19bbe-b237-402c-9a0c-850c8415d010",
   "metadata": {},
   "outputs": [
    {
     "name": "stdout",
     "output_type": "stream",
     "text": [
      "Processed 1000 items after polling 3080 times\n"
     ]
    }
   ],
   "source": [
    "processed = len(done_queue.numbers)\n",
    "polled = sum(t.polled_count for t in threads)\n",
    "print(f'Processed {processed} items after polling {polled} times')"
   ]
  },
  {
   "cell_type": "markdown",
   "id": "6bcd50ec-1baf-4abd-b7e7-ca9c07a8285d",
   "metadata": {},
   "source": [
    "Workers tried to poll work many times and were wasting CPU doing nothing useful; they're constatnly raising and catching IndexError exceptions."
   ]
  },
  {
   "cell_type": "markdown",
   "id": "f3e84ad7-e563-4d06-b017-631338eaa15c",
   "metadata": {},
   "source": [
    "## Problems with this model\n",
    "1. Determining that all of the input work is compelete requires yet another busy wait on the done_queue\n",
    "2. In `Worker` the run method will execute forever in its busy loop\n",
    "3. If the first phase makes rapid progress but the second phase makes slow progress, then the queue connecting the first phase to the second phase will constantly increase in size."
   ]
  },
  {
   "cell_type": "markdown",
   "id": "192aee10-49a4-4615-9e98-6e36845e0771",
   "metadata": {},
   "source": [
    "## Better approach - `Queue`"
   ]
  },
  {
   "cell_type": "code",
   "execution_count": 31,
   "id": "feac1189-4a82-4c97-9b86-f414670897b0",
   "metadata": {},
   "outputs": [],
   "source": [
    "from queue import Queue\n",
    "import threading\n",
    "import time"
   ]
  },
  {
   "cell_type": "code",
   "execution_count": 32,
   "id": "85a5b7f6-826d-49e5-b8a8-ee5ec3399587",
   "metadata": {},
   "outputs": [],
   "source": [
    "my_queue = Queue()"
   ]
  },
  {
   "cell_type": "markdown",
   "id": "38cfed1e-9fc6-4c4a-8dc8-a00b7063a3d9",
   "metadata": {},
   "source": [
    "Queue eliminates the busy waiting in the worker by making the get method block until new data is available"
   ]
  },
  {
   "cell_type": "code",
   "execution_count": 33,
   "id": "6f13e956-7db0-4520-8b03-00988e12c193",
   "metadata": {},
   "outputs": [],
   "source": [
    "def consumer():\n",
    "    print('Consumer waiting')\n",
    "    my_queue.get()\n",
    "    print('Consumer done')"
   ]
  },
  {
   "cell_type": "code",
   "execution_count": 34,
   "id": "73b76e55-8eef-4e76-81d2-b6a8e6b3f488",
   "metadata": {},
   "outputs": [],
   "source": [
    "thread = threading.Thread(target=consumer)"
   ]
  },
  {
   "cell_type": "code",
   "execution_count": 35,
   "id": "c95d2e80-7535-4eb2-93f8-0793ffb129df",
   "metadata": {},
   "outputs": [
    {
     "name": "stdout",
     "output_type": "stream",
     "text": [
      "Consumer waiting\n"
     ]
    }
   ],
   "source": [
    "thread.start()"
   ]
  },
  {
   "cell_type": "markdown",
   "id": "d85a84f9-ead1-41f4-864b-fc1dd1ab2dd7",
   "metadata": {},
   "source": [
    "Even though the thread is running first, it won't finish until an item is put on the Queue instance and the get method has something to return."
   ]
  },
  {
   "cell_type": "code",
   "execution_count": 36,
   "id": "fdf77732-2c6c-46cf-b0f8-bb2358aafff6",
   "metadata": {},
   "outputs": [
    {
     "name": "stdout",
     "output_type": "stream",
     "text": [
      "Producer putting\n",
      "Producer done\n",
      "Consumer done\n"
     ]
    }
   ],
   "source": [
    "print('Producer putting')\n",
    "my_queue.put(None)\n",
    "print('Producer done')"
   ]
  },
  {
   "cell_type": "markdown",
   "id": "b8ecdaf4-1d40-495e-b3d0-48b20bf4ba6d",
   "metadata": {},
   "source": [
    "To solve the pipeline backup issue, the `Queue` class lets you specify the maximum amout of pending work to allow between two phases. This buffer size causes calls to put to block when the queue is already full. For example, here I define a thread that waits for a while before consuming a queue:"
   ]
  },
  {
   "cell_type": "code",
   "execution_count": 37,
   "id": "bb8893d6-96b7-4fbc-8015-1482b3e73f60",
   "metadata": {},
   "outputs": [],
   "source": [
    "my_queue = Queue(1)"
   ]
  },
  {
   "cell_type": "code",
   "execution_count": 38,
   "id": "5eebd16a-69ef-4322-a6fc-f72f3bee5b82",
   "metadata": {},
   "outputs": [],
   "source": [
    "def consumer():\n",
    "    time.sleep(0.1)\n",
    "    my_queue.get()\n",
    "    print('Consumer got 1')\n",
    "    my_queue.get()\n",
    "    print('Consumer got 2')\n",
    "    print('Consumer done')"
   ]
  },
  {
   "cell_type": "code",
   "execution_count": 39,
   "id": "5ec4eaf5-ea82-4086-9afe-ea2727651876",
   "metadata": {},
   "outputs": [],
   "source": [
    "thread = threading.Thread(target=consumer)"
   ]
  },
  {
   "cell_type": "code",
   "execution_count": 40,
   "id": "d6ebbbde-2b73-495e-9c0a-3630b8ae4ac5",
   "metadata": {},
   "outputs": [],
   "source": [
    "thread.start()"
   ]
  },
  {
   "cell_type": "code",
   "execution_count": 41,
   "id": "9fcd5492-0e67-45e4-8f97-cbf19681982f",
   "metadata": {},
   "outputs": [
    {
     "name": "stdout",
     "output_type": "stream",
     "text": [
      "Producer put 1\n",
      "Consumer got 1\n",
      "Producer put 2\n",
      "Producer done\n",
      "Consumer got 2\n",
      "Consumer done\n"
     ]
    }
   ],
   "source": [
    "my_queue.put(None)\n",
    "print('Producer put 1')\n",
    "my_queue.put(None)\n",
    "print('Producer put 2')\n",
    "print('Producer done')\n",
    "thread.join()"
   ]
  },
  {
   "cell_type": "markdown",
   "id": "c62691ab-ee1e-47fb-a5cd-49a7037ef8d8",
   "metadata": {},
   "source": [
    "The `Queue` class can also track the progress of work using the task_done method. This lets you wait for a phase's input queue to drain and elimates the need to poll the last phase of a pipline (as with the done_queue above). For example, here I define a consumer thread that calls task_done when it finishes working on an item:"
   ]
  },
  {
   "cell_type": "code",
   "execution_count": 42,
   "id": "421c4bbc-3718-4892-a63c-c0f0c251c28e",
   "metadata": {},
   "outputs": [],
   "source": [
    "in_queue = Queue()"
   ]
  },
  {
   "cell_type": "code",
   "execution_count": 43,
   "id": "747862c4-451c-44b1-b3de-97c163d9c9bd",
   "metadata": {},
   "outputs": [],
   "source": [
    "def consumer():\n",
    "    print('Consumer waiting')\n",
    "    work = in_queue.get()\n",
    "    print('Consumer working')\n",
    "    # work\n",
    "    print('Consumer done')\n",
    "    in_queue.task_done()"
   ]
  },
  {
   "cell_type": "code",
   "execution_count": 44,
   "id": "74a4b70d-952f-4ee2-b60f-5f61078387d3",
   "metadata": {},
   "outputs": [
    {
     "name": "stdout",
     "output_type": "stream",
     "text": [
      "Consumer waiting\n"
     ]
    }
   ],
   "source": [
    "thread = threading.Thread(target=consumer)\n",
    "thread.start()"
   ]
  },
  {
   "cell_type": "code",
   "execution_count": 45,
   "id": "149b3542-3bf7-4fe5-abe0-0fab888c77bc",
   "metadata": {},
   "outputs": [
    {
     "name": "stdout",
     "output_type": "stream",
     "text": [
      "Producer putting\n",
      "Producer waiting\n",
      "Consumer working\n",
      "Consumer done\n",
      "Producer done\n"
     ]
    }
   ],
   "source": [
    "print('Producer putting')\n",
    "in_queue.put(None)\n",
    "print('Producer waiting')\n",
    "in_queue.join()\n",
    "print('Producer done')\n",
    "thread.join()"
   ]
  },
  {
   "cell_type": "code",
   "execution_count": 46,
   "id": "f54b5e1d-618a-4fe3-b6a2-a53bd559098a",
   "metadata": {},
   "outputs": [],
   "source": [
    "class ClosableQueue(Queue):\n",
    "    SENTINEL = object()\n",
    "    \n",
    "    def close(self):\n",
    "        self.put(self.SENTINEL)\n",
    "        \n",
    "    def __iter__(self):\n",
    "        while True:\n",
    "            item = self.get()\n",
    "            try:\n",
    "                if item is self.SENTINEL:\n",
    "                    return # Cause the thread to exit\n",
    "                yield item\n",
    "            finally:\n",
    "                self.task_done()"
   ]
  },
  {
   "cell_type": "markdown",
   "id": "5bb85795-1a2d-464a-8ea9-34ab05d97b24",
   "metadata": {},
   "source": [
    "Now, I can redefine my worker thread to rely on the behaviour of the ClosableQueue class. The thread will exit when the for loop is exhausted."
   ]
  },
  {
   "cell_type": "code",
   "execution_count": 47,
   "id": "d33fdc39-1fc3-4be1-9eab-6cabddf79b51",
   "metadata": {},
   "outputs": [],
   "source": [
    "class StoppableWorker(threading.Thread):\n",
    "    def __init__(self, func, in_queue, out_queue):\n",
    "        super().__init__()\n",
    "        self.func = func\n",
    "        self.in_queue = in_queue\n",
    "        self.out_queue = out_queue\n",
    "        \n",
    "    def run(self):\n",
    "        for item in self.in_queue:\n",
    "            result = self.func(item)\n",
    "            self.out_queue.put(result)"
   ]
  },
  {
   "cell_type": "code",
   "execution_count": 48,
   "id": "a6535859-5180-442e-9bbc-15f24e3b424c",
   "metadata": {},
   "outputs": [],
   "source": [
    "import random"
   ]
  },
  {
   "cell_type": "code",
   "execution_count": 49,
   "id": "e910ce07-a372-4f78-b93a-cab46cda47cd",
   "metadata": {},
   "outputs": [],
   "source": [
    "def init_number(number):\n",
    "    return random.randrange(number)"
   ]
  },
  {
   "cell_type": "code",
   "execution_count": 50,
   "id": "9f80f24c-0524-4e1c-adc8-e6b6b4de1ed4",
   "metadata": {},
   "outputs": [],
   "source": [
    "def multiply_by_2(number):\n",
    "    return number*2"
   ]
  },
  {
   "cell_type": "code",
   "execution_count": 51,
   "id": "b73ef91e-8d47-4cc8-95ee-70c999c96ac5",
   "metadata": {},
   "outputs": [],
   "source": [
    "def add_1(number):\n",
    "    return number + 1"
   ]
  },
  {
   "cell_type": "code",
   "execution_count": 52,
   "id": "afeaff47-bbed-4a61-a49b-eb3d20379289",
   "metadata": {
    "tags": []
   },
   "outputs": [],
   "source": [
    "init_queue = ClosableQueue()\n",
    "multiply_queue = ClosableQueue()\n",
    "add_queue = ClosableQueue()\n",
    "done_queue = ClosableQueue()\n",
    "threads = [\n",
    "    StoppableWorker(init_number, init_queue, multiply_queue),\n",
    "    StoppableWorker(multiply_by_2, multiply_queue, add_queue),\n",
    "    StoppableWorker(add_1, add_queue, done_queue),\n",
    "]"
   ]
  },
  {
   "cell_type": "code",
   "execution_count": 53,
   "id": "fed0e20b-ce49-4b46-8cae-e4caec867985",
   "metadata": {
    "tags": []
   },
   "outputs": [],
   "source": [
    "for thread in threads:\n",
    "    thread.start()\n",
    "    \n",
    "for number in range(1, 100):\n",
    "    init_queue.put(number)"
   ]
  },
  {
   "cell_type": "code",
   "execution_count": 54,
   "id": "235cca24-1213-47cb-a33b-3c49e54146df",
   "metadata": {
    "tags": []
   },
   "outputs": [],
   "source": [
    "init_queue.close()\n",
    "init_queue.join()\n",
    "multiply_queue.close()\n",
    "multiply_queue.join()\n",
    "add_queue.close()\n",
    "add_queue.join()\n",
    "\n",
    "for thread in threads:\n",
    "    thread.join()"
   ]
  },
  {
   "cell_type": "code",
   "execution_count": 55,
   "id": "dd4b09b4-0550-46d3-8666-fc3f1532dd9e",
   "metadata": {},
   "outputs": [
    {
     "name": "stdout",
     "output_type": "stream",
     "text": [
      "99 items finished\n"
     ]
    }
   ],
   "source": [
    "print(done_queue.qsize(), 'items finished')"
   ]
  },
  {
   "cell_type": "markdown",
   "id": "1018528a-299d-437f-8ce5-b2bfef446ff7",
   "metadata": {},
   "source": [
    "### **use `Queue` to create pipeline of tasks**"
   ]
  },
  {
   "cell_type": "markdown",
   "id": "f74979b4-182c-4f74-8bcc-094e487afb66",
   "metadata": {},
   "source": [
    "## Can we do even better with multiple workers per phase?"
   ]
  },
  {
   "cell_type": "code",
   "execution_count": 56,
   "id": "356fd247-57b3-412a-a485-328cc6dd0001",
   "metadata": {},
   "outputs": [],
   "source": [
    "def start_threads(count, *args):\n",
    "    threads = [StoppableWorker(*args) for _ in range(count)]\n",
    "    for thread in threads:\n",
    "        thread.start()\n",
    "    return threads"
   ]
  },
  {
   "cell_type": "code",
   "execution_count": 57,
   "id": "db7ffb6e-f5f5-4b9b-98bb-18bf5186a38b",
   "metadata": {},
   "outputs": [],
   "source": [
    "def stop_threads(closable_queue, threads):\n",
    "    for _ in threads:\n",
    "        closable_queue.close()\n",
    "    \n",
    "    closable_queue.join()\n",
    "    \n",
    "    for thread in threads:\n",
    "        thread.join()"
   ]
  },
  {
   "cell_type": "code",
   "execution_count": 58,
   "id": "d35499c7-3779-461d-b94c-b6f348e28de5",
   "metadata": {},
   "outputs": [],
   "source": [
    "initial_queue = ClosableQueue()\n",
    "multiply_queue = ClosableQueue()\n",
    "add_queue = ClosableQueue()\n",
    "done_queue = ClosableQueue()"
   ]
  },
  {
   "cell_type": "code",
   "execution_count": 59,
   "id": "d15b615b-d986-4f2d-89b6-8ab49673d229",
   "metadata": {},
   "outputs": [],
   "source": [
    "initial_threads = start_threads(3, init_number, initial_queue, multiply_queue)\n",
    "multiply_threads = start_threads(3, multiply_by_2, multiply_queue, add_queue)\n",
    "add_threads = start_threads(3, add_1, add_queue, done_queue)\n",
    "\n",
    "for number in range(1,100):\n",
    "    initial_queue.put(number)\n",
    "\n",
    "stop_threads(initial_queue, initial_threads)\n",
    "stop_threads(multiply_queue, multiply_threads)\n",
    "stop_threads(add_queue, add_threads)"
   ]
  },
  {
   "cell_type": "code",
   "execution_count": 60,
   "id": "c5376d41-1cec-4dad-9298-5e8f23115bd1",
   "metadata": {},
   "outputs": [
    {
     "name": "stdout",
     "output_type": "stream",
     "text": [
      "99 items finished\n"
     ]
    }
   ],
   "source": [
    "print(done_queue.qsize(), 'items finished')"
   ]
  },
  {
   "cell_type": "markdown",
   "id": "717d2d7a-ddd1-47bb-8a68-0f9b52919baf",
   "metadata": {},
   "source": [
    "### **you can use multiple threads for tasks in one `Queue`**"
   ]
  }
 ],
 "metadata": {
  "kernelspec": {
   "display_name": "Python 3",
   "language": "python",
   "name": "python3"
  },
  "language_info": {
   "codemirror_mode": {
    "name": "ipython",
    "version": 3
   },
   "file_extension": ".py",
   "mimetype": "text/x-python",
   "name": "python",
   "nbconvert_exporter": "python",
   "pygments_lexer": "ipython3",
   "version": "3.7.9"
  }
 },
 "nbformat": 4,
 "nbformat_minor": 5
}
