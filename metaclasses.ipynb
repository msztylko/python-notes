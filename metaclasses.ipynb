{
 "cells": [
  {
   "cell_type": "markdown",
   "id": "33e9d4d5-56b5-4bc6-b079-99928fce716f",
   "metadata": {},
   "source": [
    "# Metaclasses"
   ]
  },
  {
   "cell_type": "markdown",
   "id": "d18aad54-8647-4df7-8586-35875ceaebf1",
   "metadata": {},
   "source": [
    "Exploration together with: https://stackoverflow.com/questions/100003/what-are-metaclasses-in-python"
   ]
  },
  {
   "cell_type": "code",
   "execution_count": 1,
   "id": "980e91c9-0cb0-4fad-9856-3d70029aa80e",
   "metadata": {},
   "outputs": [],
   "source": [
    "class ObjectCreator:\n",
    "    pass"
   ]
  },
  {
   "cell_type": "code",
   "execution_count": 2,
   "id": "b7d87e5a-f77f-4188-a9d9-c29d8340445d",
   "metadata": {},
   "outputs": [],
   "source": [
    "my_object = ObjectCreator()"
   ]
  },
  {
   "cell_type": "code",
   "execution_count": 3,
   "id": "777d03c1-4b3f-4503-976b-e9291aaf4111",
   "metadata": {},
   "outputs": [
    {
     "data": {
      "text/plain": [
       "<__main__.ObjectCreator at 0x1039cd880>"
      ]
     },
     "execution_count": 3,
     "metadata": {},
     "output_type": "execute_result"
    }
   ],
   "source": [
    "my_object"
   ]
  },
  {
   "cell_type": "markdown",
   "id": "ba7315b8-1714-44a0-b0a7-871236fed9dd",
   "metadata": {},
   "source": [
    "class statement creates an object (**the class**) in memory that itself is able to create other objects (**the instances**)"
   ]
  },
  {
   "cell_type": "code",
   "execution_count": 4,
   "id": "9bd03775-817b-484c-8ce8-052418e40fef",
   "metadata": {},
   "outputs": [
    {
     "data": {
      "text/plain": [
       "\"<class '__main__.ObjectCreator'>\""
      ]
     },
     "execution_count": 4,
     "metadata": {},
     "output_type": "execute_result"
    }
   ],
   "source": [
    "repr(ObjectCreator)"
   ]
  },
  {
   "cell_type": "code",
   "execution_count": 5,
   "id": "965f9d84-a222-498d-ade4-237783d2c510",
   "metadata": {},
   "outputs": [
    {
     "data": {
      "text/plain": [
       "'<__main__.ObjectCreator object at 0x103a2a070>'"
      ]
     },
     "execution_count": 5,
     "metadata": {},
     "output_type": "execute_result"
    }
   ],
   "source": [
    "repr(ObjectCreator())"
   ]
  },
  {
   "cell_type": "markdown",
   "id": "f632dd87-8822-4739-bcea-3a5926e0c6c0",
   "metadata": {},
   "source": [
    "## Creating classes dynamically"
   ]
  },
  {
   "cell_type": "markdown",
   "id": "61164cb0-197c-42b9-9cf0-7fe4e6d8711e",
   "metadata": {},
   "source": [
    "Classes are objects, so you can create them dynamically"
   ]
  },
  {
   "cell_type": "code",
   "execution_count": 6,
   "id": "2f743e24-1a68-4f67-b80d-a9399f04582e",
   "metadata": {},
   "outputs": [],
   "source": [
    "def create_class(name):\n",
    "    if name == 'foo':\n",
    "        class Foo:\n",
    "            pass\n",
    "        return Foo\n",
    "    else:\n",
    "        class Bar:\n",
    "            pass\n",
    "        return Bar"
   ]
  },
  {
   "cell_type": "code",
   "execution_count": 7,
   "id": "ee301a0b-4530-4e64-9508-5db655ce1b25",
   "metadata": {},
   "outputs": [],
   "source": [
    "MyClass = create_class('foo')"
   ]
  },
  {
   "cell_type": "code",
   "execution_count": 8,
   "id": "cc235be2-6b29-4a8f-b5b6-75f7f77a65cb",
   "metadata": {},
   "outputs": [
    {
     "data": {
      "text/plain": [
       "\"<class '__main__.create_class.<locals>.Foo'>\""
      ]
     },
     "execution_count": 8,
     "metadata": {},
     "output_type": "execute_result"
    }
   ],
   "source": [
    "repr(MyClass)"
   ]
  },
  {
   "cell_type": "markdown",
   "id": "ca98cc45-416a-4280-8055-81d4f7cd9bce",
   "metadata": {},
   "source": [
    "Python creates class objects when you use `class` keyword, but there is another way to do it."
   ]
  },
  {
   "cell_type": "code",
   "execution_count": 9,
   "id": "be2a5fd6-c521-4cca-a3fa-509906f77e86",
   "metadata": {},
   "outputs": [
    {
     "data": {
      "text/plain": [
       "int"
      ]
     },
     "execution_count": 9,
     "metadata": {},
     "output_type": "execute_result"
    }
   ],
   "source": [
    "type(1)"
   ]
  },
  {
   "cell_type": "code",
   "execution_count": 10,
   "id": "e551c3c2-0766-4ff9-b00d-33d3204afd37",
   "metadata": {},
   "outputs": [
    {
     "data": {
      "text/plain": [
       "str"
      ]
     },
     "execution_count": 10,
     "metadata": {},
     "output_type": "execute_result"
    }
   ],
   "source": [
    "type('1')"
   ]
  },
  {
   "cell_type": "code",
   "execution_count": 11,
   "id": "3f30b94d-a407-4a98-a11c-3b4467813fa2",
   "metadata": {},
   "outputs": [
    {
     "data": {
      "text/plain": [
       "type"
      ]
     },
     "execution_count": 11,
     "metadata": {},
     "output_type": "execute_result"
    }
   ],
   "source": [
    "type(MyClass)"
   ]
  },
  {
   "cell_type": "code",
   "execution_count": 12,
   "id": "0aa43b7c-1f92-4896-adb9-d8b917b7fed8",
   "metadata": {},
   "outputs": [
    {
     "data": {
      "text/plain": [
       "__main__.create_class.<locals>.Foo"
      ]
     },
     "execution_count": 12,
     "metadata": {},
     "output_type": "execute_result"
    }
   ],
   "source": [
    "type(MyClass())"
   ]
  },
  {
   "cell_type": "markdown",
   "id": "65f0075d-1101-41aa-b8d5-87c4d7cbb2bd",
   "metadata": {},
   "source": [
    "When used with one argument `type` returns the type of an object. However, if we use it with three arguments, it returns a new type object."
   ]
  },
  {
   "cell_type": "markdown",
   "id": "767ed986-2262-4384-bea5-62910113f75a",
   "metadata": {},
   "source": [
    "```python\n",
    "type(name, bases, attrs)\n",
    "```\n",
    "\n",
    "* name - name of the class. Becomes the `__name__` attribute\n",
    "* bases - tuple of the parent class (for inheritance, can be empty). Becomes the `__bases__` attribute\n",
    "* attrs - dictionary containing attributes. Becomes the `__dict__` attribute."
   ]
  },
  {
   "cell_type": "markdown",
   "id": "88eafa67-d4e3-44d9-89f7-6d3a07e50cb2",
   "metadata": {},
   "source": [
    "For exmaple"
   ]
  },
  {
   "cell_type": "code",
   "execution_count": 13,
   "id": "9dda55e1-1796-4532-bf34-1bba2d1373c1",
   "metadata": {},
   "outputs": [],
   "source": [
    "class MyClass():\n",
    "    pass"
   ]
  },
  {
   "cell_type": "markdown",
   "id": "2549936c-0406-4682-a293-fa31184bb3d0",
   "metadata": {},
   "source": [
    "can be created manually this way:"
   ]
  },
  {
   "cell_type": "code",
   "execution_count": 14,
   "id": "337ba155-fec4-4c24-8aff-cd0dd1d046de",
   "metadata": {},
   "outputs": [],
   "source": [
    "MyClass = type('MyClass', (), {})"
   ]
  },
  {
   "cell_type": "code",
   "execution_count": 15,
   "id": "6c730ec3-5065-425d-99ad-633ff5a2ec93",
   "metadata": {},
   "outputs": [
    {
     "data": {
      "text/plain": [
       "__main__.MyClass"
      ]
     },
     "execution_count": 15,
     "metadata": {},
     "output_type": "execute_result"
    }
   ],
   "source": [
    "MyClass"
   ]
  },
  {
   "cell_type": "markdown",
   "id": "19570a82-0c48-4ab4-bbd8-df8f98bc2d17",
   "metadata": {},
   "source": [
    "`type` accepts a dictionary to define the attributes of the class"
   ]
  },
  {
   "cell_type": "code",
   "execution_count": 16,
   "id": "5dd2d427-42b6-4b41-8134-f970629c43f0",
   "metadata": {},
   "outputs": [],
   "source": [
    "class Foo:\n",
    "    bar = True"
   ]
  },
  {
   "cell_type": "code",
   "execution_count": 17,
   "id": "fbb518d5-e6ef-4a95-9496-1ffe66098256",
   "metadata": {},
   "outputs": [
    {
     "data": {
      "text/plain": [
       "True"
      ]
     },
     "execution_count": 17,
     "metadata": {},
     "output_type": "execute_result"
    }
   ],
   "source": [
    "Foo.bar"
   ]
  },
  {
   "cell_type": "markdown",
   "id": "8515c2f4-5a34-4ec0-bf13-ebaaa9e2da52",
   "metadata": {},
   "source": [
    "can be translated to:"
   ]
  },
  {
   "cell_type": "code",
   "execution_count": 18,
   "id": "16721273-71a5-497b-91d9-5970fd80a05b",
   "metadata": {},
   "outputs": [],
   "source": [
    "Foo = type('Foo', (), {'bar': True})"
   ]
  },
  {
   "cell_type": "code",
   "execution_count": 19,
   "id": "29dd3513-8db4-4d6c-bac7-fda72018e142",
   "metadata": {},
   "outputs": [
    {
     "data": {
      "text/plain": [
       "True"
      ]
     },
     "execution_count": 19,
     "metadata": {},
     "output_type": "execute_result"
    }
   ],
   "source": [
    "Foo.bar"
   ]
  },
  {
   "cell_type": "markdown",
   "id": "4bcea969-33c9-4096-9836-70426653c136",
   "metadata": {},
   "source": [
    "Inheritence works as excepted"
   ]
  },
  {
   "cell_type": "code",
   "execution_count": 20,
   "id": "e0fb74a4-d2eb-4a3e-92f7-83e9d3d73249",
   "metadata": {},
   "outputs": [],
   "source": [
    "class FooChild(Foo):\n",
    "    pass"
   ]
  },
  {
   "cell_type": "code",
   "execution_count": 21,
   "id": "666058dc-6834-4312-a487-a560ebb8e5fc",
   "metadata": {},
   "outputs": [
    {
     "data": {
      "text/plain": [
       "True"
      ]
     },
     "execution_count": 21,
     "metadata": {},
     "output_type": "execute_result"
    }
   ],
   "source": [
    "FooChild.bar"
   ]
  },
  {
   "cell_type": "code",
   "execution_count": 22,
   "id": "b4138da3-2219-4602-8581-abf66698a60d",
   "metadata": {},
   "outputs": [],
   "source": [
    "FooChild = type('FooChild', (Foo,), {})"
   ]
  },
  {
   "cell_type": "code",
   "execution_count": 23,
   "id": "b2f3f8ae-69ea-4674-9acf-a8950a0a4636",
   "metadata": {},
   "outputs": [
    {
     "data": {
      "text/plain": [
       "True"
      ]
     },
     "execution_count": 23,
     "metadata": {},
     "output_type": "execute_result"
    }
   ],
   "source": [
    "FooChild.bar"
   ]
  },
  {
   "cell_type": "markdown",
   "id": "db0cdf3c-f200-49cb-b3e3-598c4013be88",
   "metadata": {},
   "source": [
    "One of the more useful things for classes is adding methods. Just define a function with a proper signature and assign it as an attribute."
   ]
  },
  {
   "cell_type": "code",
   "execution_count": 24,
   "id": "14b25ce2-9d32-4708-9b19-dae6950ebe59",
   "metadata": {},
   "outputs": [],
   "source": [
    "def echo_bar(self):\n",
    "    print(self.bar)"
   ]
  },
  {
   "cell_type": "code",
   "execution_count": 25,
   "id": "a4f02802-9719-45a6-b03e-c61beea1d683",
   "metadata": {},
   "outputs": [],
   "source": [
    "FooChild = type('FooChild', (Foo,), {'echo_bar': echo_bar})"
   ]
  },
  {
   "cell_type": "code",
   "execution_count": 26,
   "id": "ab6cf73c-2b72-448c-88d9-8206ae00b1f0",
   "metadata": {},
   "outputs": [
    {
     "data": {
      "text/plain": [
       "False"
      ]
     },
     "execution_count": 26,
     "metadata": {},
     "output_type": "execute_result"
    }
   ],
   "source": [
    "hasattr(Foo, 'echo_bar')"
   ]
  },
  {
   "cell_type": "code",
   "execution_count": 27,
   "id": "a574432a-9b1f-495c-8407-1a341b2928f2",
   "metadata": {},
   "outputs": [
    {
     "data": {
      "text/plain": [
       "True"
      ]
     },
     "execution_count": 27,
     "metadata": {},
     "output_type": "execute_result"
    }
   ],
   "source": [
    "hasattr(FooChild, 'echo_bar')"
   ]
  },
  {
   "cell_type": "code",
   "execution_count": 28,
   "id": "6700a07c-fced-4dfb-ba7a-4d211146350e",
   "metadata": {},
   "outputs": [
    {
     "name": "stdout",
     "output_type": "stream",
     "text": [
      "True\n"
     ]
    }
   ],
   "source": [
    "my_foo = FooChild()\n",
    "my_foo.echo_bar()"
   ]
  },
  {
   "cell_type": "markdown",
   "id": "0ce65151-f028-4a8a-aad7-7624d780fce6",
   "metadata": {},
   "source": [
    "In Python, classes are objects, and you can create a class on the fly, dynamically.\n",
    "This is what Python does when you use the keyword `class`, and it does so by using **metaclass**"
   ]
  },
  {
   "cell_type": "markdown",
   "id": "48bbb0e1-6f4c-430c-9140-8fc6859049c4",
   "metadata": {},
   "source": [
    "## Metaclasses"
   ]
  },
  {
   "cell_type": "markdown",
   "id": "f473b598-1baf-4b5a-b724-9bb240b24c22",
   "metadata": {},
   "source": [
    "Metaclasses are the 'stuff' that creates classes. They are classes' classes"
   ]
  },
  {
   "cell_type": "raw",
   "id": "347026ca-2501-4177-85e8-e0df0c1a1886",
   "metadata": {},
   "source": [
    "MyClass = MetaClass()\n",
    "my_object = MyClass()"
   ]
  },
  {
   "cell_type": "markdown",
   "id": "b602f117-252e-4e5b-aa61-e49b4736a051",
   "metadata": {},
   "source": [
    "`type` allows you to create classes, because `type` function is the metaclass. Python uses it to create all classes behind the scenes."
   ]
  },
  {
   "cell_type": "code",
   "execution_count": 29,
   "id": "03027dbf-b898-4d9c-b4a9-3a226ddbbed4",
   "metadata": {},
   "outputs": [
    {
     "data": {
      "text/plain": [
       "int"
      ]
     },
     "execution_count": 29,
     "metadata": {},
     "output_type": "execute_result"
    }
   ],
   "source": [
    "age = 35\n",
    "age.__class__"
   ]
  },
  {
   "cell_type": "code",
   "execution_count": 30,
   "id": "eb6c3032-59da-43ba-b28a-0e9335331cf8",
   "metadata": {},
   "outputs": [
    {
     "data": {
      "text/plain": [
       "str"
      ]
     },
     "execution_count": 30,
     "metadata": {},
     "output_type": "execute_result"
    }
   ],
   "source": [
    "name = 'bob'\n",
    "name.__class__"
   ]
  },
  {
   "cell_type": "code",
   "execution_count": 31,
   "id": "584cd9fb-e7a7-44aa-b9fa-f052c5b60883",
   "metadata": {},
   "outputs": [
    {
     "data": {
      "text/plain": [
       "function"
      ]
     },
     "execution_count": 31,
     "metadata": {},
     "output_type": "execute_result"
    }
   ],
   "source": [
    "def foo(): pass\n",
    "foo.__class__"
   ]
  },
  {
   "cell_type": "code",
   "execution_count": 32,
   "id": "6c2b474e-c112-492b-8cd5-3e83f74fea04",
   "metadata": {},
   "outputs": [
    {
     "data": {
      "text/plain": [
       "__main__.Bar"
      ]
     },
     "execution_count": 32,
     "metadata": {},
     "output_type": "execute_result"
    }
   ],
   "source": [
    "class Bar: pass\n",
    "Bar().__class__"
   ]
  },
  {
   "cell_type": "markdown",
   "id": "b9848ef1-ca15-4b6c-9783-1ff788a0d464",
   "metadata": {},
   "source": [
    "What is the `__class__` of any `__class__`?"
   ]
  },
  {
   "cell_type": "code",
   "execution_count": 33,
   "id": "83b3b4b7-43d5-403f-b083-06055feed86c",
   "metadata": {},
   "outputs": [
    {
     "data": {
      "text/plain": [
       "type"
      ]
     },
     "execution_count": 33,
     "metadata": {},
     "output_type": "execute_result"
    }
   ],
   "source": [
    "age.__class__.__class__"
   ]
  },
  {
   "cell_type": "code",
   "execution_count": 34,
   "id": "6fc72427-2d2f-409f-a4b5-1cbd11779ac8",
   "metadata": {},
   "outputs": [
    {
     "data": {
      "text/plain": [
       "type"
      ]
     },
     "execution_count": 34,
     "metadata": {},
     "output_type": "execute_result"
    }
   ],
   "source": [
    "name.__class__.__class__"
   ]
  },
  {
   "cell_type": "code",
   "execution_count": 35,
   "id": "e4baf107-66f4-4222-aff7-3ccd5a129b1e",
   "metadata": {},
   "outputs": [
    {
     "data": {
      "text/plain": [
       "type"
      ]
     },
     "execution_count": 35,
     "metadata": {},
     "output_type": "execute_result"
    }
   ],
   "source": [
    "foo.__class__.__class__"
   ]
  },
  {
   "cell_type": "code",
   "execution_count": 36,
   "id": "045c65dd-46fc-49f0-9284-a2e0e748b3c6",
   "metadata": {},
   "outputs": [
    {
     "data": {
      "text/plain": [
       "type"
      ]
     },
     "execution_count": 36,
     "metadata": {},
     "output_type": "execute_result"
    }
   ],
   "source": [
    "Bar().__class__.__class__"
   ]
  },
  {
   "cell_type": "markdown",
   "id": "65dfcabc-c551-4b67-85f2-f3329863b370",
   "metadata": {},
   "source": [
    "A metaclass is just the object that creates class objects."
   ]
  },
  {
   "cell_type": "markdown",
   "id": "9074a452-9a04-48d4-a214-4b719f1fa779",
   "metadata": {},
   "source": [
    "`type` is the built-in metaclass Python uses,but you can create your own metaclass."
   ]
  },
  {
   "cell_type": "raw",
   "id": "a03aa921-942a-46a9-a1bc-ce715323316a",
   "metadata": {},
   "source": [
    "class Foo(metaclass=something):\n",
    "    pass"
   ]
  },
  {
   "cell_type": "markdown",
   "id": "db6e39a6-99e4-4cbf-8268-345977355bbd",
   "metadata": {},
   "source": [
    "Imagine an example, where you decide that all classes in your module should have their attributes written in uppercase.\n",
    "There are several ways to do this, but one way is to set `__metaclass__` at the module level."
   ]
  },
  {
   "cell_type": "markdown",
   "id": "7194a371-4a8c-49c3-ac94-edcf825aa8de",
   "metadata": {},
   "source": [
    "Luckily, `__metaclass__` can actually be any callable, it doesn't need to be a formal class (somehting with 'class' in its name doesn't need to be a class_"
   ]
  },
  {
   "cell_type": "code",
   "execution_count": 37,
   "id": "6ece7d60-9d86-4264-82cd-58a94cff8ea4",
   "metadata": {},
   "outputs": [
    {
     "name": "stdout",
     "output_type": "stream",
     "text": [
      "True\n",
      "False\n"
     ]
    },
    {
     "ename": "AttributeError",
     "evalue": "type object 'Foo' has no attribute 'BAR'",
     "output_type": "error",
     "traceback": [
      "\u001b[0;31m---------------------------------------------------------------------------\u001b[0m",
      "\u001b[0;31mAttributeError\u001b[0m                            Traceback (most recent call last)",
      "Input \u001b[0;32mIn [37]\u001b[0m, in \u001b[0;36m<cell line: 25>\u001b[0;34m()\u001b[0m\n\u001b[1;32m     23\u001b[0m \u001b[38;5;28mprint\u001b[39m(\u001b[38;5;28mhasattr\u001b[39m(Foo, \u001b[38;5;124m'\u001b[39m\u001b[38;5;124mbar\u001b[39m\u001b[38;5;124m'\u001b[39m))\n\u001b[1;32m     24\u001b[0m \u001b[38;5;28mprint\u001b[39m(\u001b[38;5;28mhasattr\u001b[39m(Foo, \u001b[38;5;124m'\u001b[39m\u001b[38;5;124mBAR\u001b[39m\u001b[38;5;124m'\u001b[39m))\n\u001b[0;32m---> 25\u001b[0m \u001b[38;5;28mprint\u001b[39m(\u001b[43mFoo\u001b[49m\u001b[38;5;241;43m.\u001b[39;49m\u001b[43mBAR\u001b[49m)\n",
      "\u001b[0;31mAttributeError\u001b[0m: type object 'Foo' has no attribute 'BAR'"
     ]
    }
   ],
   "source": [
    "# %load metaclasses.py\n",
    "# the metaclass will automatically get passed the same argument\n",
    "# that you usually pass to `type`\n",
    "\n",
    "def upper_attr(future_class_name, future_class_parents, future_class_attrs):\n",
    "    \"\"\"\n",
    "    Return a class object, with the list of its attributes turned into uppercase\n",
    "    \"\"\"\n",
    "    # pick any attribute that doesn't start with '__' and uppercase it\n",
    "    uppercase_attrs = {\n",
    "        attr if attr.startswith('__') else attr.upper(): v\n",
    "        for attr, v in future_class_attrs.items()\n",
    "    }\n",
    "    # let `type` do the class creation\n",
    "    print(uppercase_attrs)\n",
    "    return type(future_class_name, future_class_parents, uppercase_attrs)\n",
    "\n",
    "__metaclass__ = upper_attr # this will affect all classes in the module\n",
    "\n",
    "class Foo():\n",
    "    bar = 'baz'\n",
    "    \n",
    "print(hasattr(Foo, 'bar'))\n",
    "print(hasattr(Foo, 'BAR'))\n",
    "print(Foo.BAR)"
   ]
  },
  {
   "cell_type": "markdown",
   "id": "ae8a3ede-16b2-4361-b2d8-9606ec98c104",
   "metadata": {},
   "source": [
    "It only works when you execute it from file."
   ]
  },
  {
   "cell_type": "markdown",
   "id": "88b5accf-1373-4a66-a763-ccd89684350b",
   "metadata": {},
   "source": [
    "Now let's do exactly the same, but using a real class for a metaclass."
   ]
  },
  {
   "cell_type": "code",
   "execution_count": 38,
   "id": "27522159-a00d-4e78-a5a1-c54a35dddf6f",
   "metadata": {},
   "outputs": [],
   "source": [
    "# remember that `type` is actually a class like 'str' and 'int'\n",
    "# so you can inherit from it\n",
    "\n",
    "class UpperAttrMetaclass(type):\n",
    "    # __new__ is the method called before __init__\n",
    "    # it's the method that creates the object and returns it\n",
    "    # while __init__ just initializes the object passed as parameter\n",
    "    # you rearely use __new__, except when you want to control how the object is created.\n",
    "    # here the created object is the class, and we want to customize it\n",
    "    # so we override __new__\n",
    "    \n",
    "    def __new__(upperattr_metaclass, future_class_name, future_class_parents, future_class_attrs):\n",
    "        uppercase_attrs = {\n",
    "            attr if attr.startswith('__') else attr.upper(): v\n",
    "            for attr, v in future_class_attrs.items()\n",
    "        }\n",
    "        return type(future_class_name, future_class_parents, upppercase_attrs)"
   ]
  },
  {
   "cell_type": "markdown",
   "id": "8b8b3d11-ef41-4887-bfb8-c4cedcaf8053",
   "metadata": {},
   "source": [
    "Let's rewritte the above, but with shorter and more realistic variable names now that we know what they mean:"
   ]
  },
  {
   "cell_type": "code",
   "execution_count": 39,
   "id": "563e65f6-b669-4c99-9e4e-7eecd95a3d37",
   "metadata": {},
   "outputs": [],
   "source": [
    "class UpperAttrMetaClass(type):\n",
    "    def __new__(cls, clsname, bases, attrs):\n",
    "        uppercase_attrs = {\n",
    "            attr if attr.startswith('__') else attr.upper(): v\n",
    "            for attr, v in attrs.items()\n",
    "        }\n",
    "        return type(clsname, bases, uppercase_attrs)"
   ]
  },
  {
   "cell_type": "markdown",
   "id": "ac86f0b9-dad4-4b2e-8e1e-61fb0df0326c",
   "metadata": {},
   "source": [
    "You may have noticed the extra argument `cls`. There is nothing special about it: `__new__` always receives the class it's defined in, as the first parameter.\n",
    "Just like you have `self` for ordinary methods which receive the instance as the first parameter, or the defining class for class methids."
   ]
  },
  {
   "cell_type": "markdown",
   "id": "e055e0b8-4e69-453b-9962-b3cf7e9336dd",
   "metadata": {},
   "source": [
    "But this is not proper OOP! We are calling `type` directly and we aren't overriding or calling the parent's `__new__`. Let's do that instead:"
   ]
  },
  {
   "cell_type": "code",
   "execution_count": 40,
   "id": "8fd315fc-fd66-4dbd-a1ed-97b241dab97d",
   "metadata": {},
   "outputs": [],
   "source": [
    "class UpperAttrMetaclass(type):\n",
    "    def __new__(cls, clsname, bases, attrs):\n",
    "        uppercase_attrs = {\n",
    "            attr if attr.startswith('__') else attr.upper(): v\n",
    "            for attr, v in attrs.items()\n",
    "        }\n",
    "        return type.__new__(cls, clsname, bases, uppercase_attrs)"
   ]
  },
  {
   "cell_type": "markdown",
   "id": "2a632631-be39-4100-9fac-659256fd8761",
   "metadata": {},
   "source": [
    "We can make it even cleaner by using `super`, which will ease inheritance (because yes, you can have metaclasses, inheriting from metaclasses, inheriting from `type`) "
   ]
  },
  {
   "cell_type": "code",
   "execution_count": 41,
   "id": "b82e01e4-1284-47bf-be82-8cbf1c006308",
   "metadata": {},
   "outputs": [],
   "source": [
    "class UpperAttrMetaclass(type):\n",
    "    def __new__(cls, clsname, bases, attrs):\n",
    "        uppercase_attrs = {\n",
    "            attr if attr.startswith('__') else attr.upper(): v\n",
    "            for attr, v in attrs.items()\n",
    "        }\n",
    "        return super(UpperAttrMetaclass, cls).__new__(\n",
    "            cls, clsname, bases, uppercase_attrs\n",
    "        )"
   ]
  }
 ],
 "metadata": {
  "kernelspec": {
   "display_name": "Python 3 (ipykernel)",
   "language": "python",
   "name": "python3"
  },
  "language_info": {
   "codemirror_mode": {
    "name": "ipython",
    "version": 3
   },
   "file_extension": ".py",
   "mimetype": "text/x-python",
   "name": "python",
   "nbconvert_exporter": "python",
   "pygments_lexer": "ipython3",
   "version": "3.8.9"
  }
 },
 "nbformat": 4,
 "nbformat_minor": 5
}
