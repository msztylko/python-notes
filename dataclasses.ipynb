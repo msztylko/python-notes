{
 "cells": [
  {
   "cell_type": "markdown",
   "id": "95b884e0-cdb3-4f7e-aba0-75871ac21cf0",
   "metadata": {},
   "source": [
    "# Dataclasses"
   ]
  },
  {
   "cell_type": "markdown",
   "id": "d39a4633-2d6a-4a5b-8f79-22e13ba55124",
   "metadata": {},
   "source": [
    "Dataclasses simplify creation of classes that are primarily used for data represnetation."
   ]
  },
  {
   "cell_type": "code",
   "execution_count": 1,
   "id": "a8c2b43b-0745-4af6-98a0-c495d5324614",
   "metadata": {
    "tags": []
   },
   "outputs": [],
   "source": [
    "from dataclasses import dataclass"
   ]
  },
  {
   "cell_type": "code",
   "execution_count": 2,
   "id": "a06b2a90-c9c5-48fa-b1d1-cefda73584d9",
   "metadata": {
    "tags": []
   },
   "outputs": [],
   "source": [
    "@dataclass\n",
    "class Dog:\n",
    "    name: str\n",
    "    age: int"
   ]
  },
  {
   "cell_type": "code",
   "execution_count": 3,
   "id": "9dd3d3d2-8fb2-4d06-a12e-c93da059c047",
   "metadata": {
    "tags": []
   },
   "outputs": [],
   "source": [
    "dog = Dog('Reksio', 10)"
   ]
  },
  {
   "cell_type": "code",
   "execution_count": 4,
   "id": "72cd3098-7254-45d5-b486-8ca924facbf2",
   "metadata": {
    "tags": []
   },
   "outputs": [
    {
     "data": {
      "text/plain": [
       "Dog(name='Reksio', age=10)"
      ]
     },
     "execution_count": 4,
     "metadata": {},
     "output_type": "execute_result"
    }
   ],
   "source": [
    "dog"
   ]
  },
  {
   "cell_type": "markdown",
   "id": "813c4bc9-8bb1-4241-9e8e-462ca14813a4",
   "metadata": {},
   "source": [
    "Very convenient as we don't have to write `__init__`, `__repr__` etc"
   ]
  },
  {
   "cell_type": "markdown",
   "id": "373c1f4e-b1de-45b8-b5e4-f76e87eb74d5",
   "metadata": {},
   "source": [
    "However,  it's a very basic tool and I was surprised to find out that it's not validating types of the declared fields."
   ]
  },
  {
   "cell_type": "code",
   "execution_count": 5,
   "id": "52b08c41-e39e-4437-847c-401f1014102d",
   "metadata": {
    "tags": []
   },
   "outputs": [],
   "source": [
    "dog = Dog(name=42, age=10)"
   ]
  },
  {
   "cell_type": "code",
   "execution_count": 6,
   "id": "d6443ce5-2623-4b0b-b9a8-df2b4ebf22ac",
   "metadata": {
    "tags": []
   },
   "outputs": [
    {
     "data": {
      "text/plain": [
       "Dog(name=42, age=10)"
      ]
     },
     "execution_count": 6,
     "metadata": {},
     "output_type": "execute_result"
    }
   ],
   "source": [
    "dog"
   ]
  },
  {
   "cell_type": "markdown",
   "id": "e819a653-8a0a-4f81-a6c1-77c0dbd93828",
   "metadata": {},
   "source": [
    "This caused me a couple of problems."
   ]
  },
  {
   "cell_type": "code",
   "execution_count": 7,
   "id": "600d5732-249f-4498-b937-da3868964702",
   "metadata": {
    "tags": []
   },
   "outputs": [
    {
     "ename": "AttributeError",
     "evalue": "'int' object has no attribute 'capitalize'",
     "output_type": "error",
     "traceback": [
      "\u001b[0;31m---------------------------------------------------------------------------\u001b[0m",
      "\u001b[0;31mAttributeError\u001b[0m                            Traceback (most recent call last)",
      "Cell \u001b[0;32mIn[7], line 1\u001b[0m\n\u001b[0;32m----> 1\u001b[0m \u001b[43mdog\u001b[49m\u001b[38;5;241;43m.\u001b[39;49m\u001b[43mname\u001b[49m\u001b[38;5;241;43m.\u001b[39;49m\u001b[43mcapitalize\u001b[49m()\n",
      "\u001b[0;31mAttributeError\u001b[0m: 'int' object has no attribute 'capitalize'"
     ]
    }
   ],
   "source": [
    "dog.name.capitalize()"
   ]
  },
  {
   "cell_type": "markdown",
   "id": "7b545bc2-7416-4107-ba0a-339109719711",
   "metadata": {},
   "source": [
    "I was so sure that the validation is a part of dataclasses that I can't imagine using them without."
   ]
  },
  {
   "cell_type": "markdown",
   "id": "6ccc31c3-517d-4c68-866e-112ae59e8e44",
   "metadata": {},
   "source": [
    "There probably is a couple of solutions to this problem, but the most common one seems to rely on `__post_init__` method. \n",
    "This method is called after `__init__` method implemented by dataclass runs and can be used for validation."
   ]
  },
  {
   "cell_type": "code",
   "execution_count": 8,
   "id": "1e815d3a-2b0a-4c0b-9f0e-3001be4136f8",
   "metadata": {
    "tags": []
   },
   "outputs": [],
   "source": [
    "def __post_init__(self):\n",
    "    for name, field_type in self.__annotations__.items():\n",
    "        if not isinstance(slef.__dict__[name], field_type):\n",
    "            raise TypeError"
   ]
  },
  {
   "cell_type": "markdown",
   "id": "6d13db74-ac69-4287-a1ad-2980a5de1bbd",
   "metadata": {},
   "source": [
    "As I want to type check practically all of my dataclasses I tend to define a superclass with such method."
   ]
  },
  {
   "cell_type": "code",
   "execution_count": 9,
   "id": "5cde5041-91d8-472e-8564-b427f2051cc2",
   "metadata": {
    "tags": []
   },
   "outputs": [],
   "source": [
    "@dataclass\n",
    "class TypeValidated:\n",
    "    \"\"\"Raise TypeError if instantiated with incorrect type.\"\"\"\n",
    "    def __post_init__(self):\n",
    "        for name, field_type in self.__annotations__.items():\n",
    "            if not isinstance(self.__dict__[name], field_type):\n",
    "                current_type = type(self.__dict__[name])\n",
    "                raise TypeError(f'For field `{name}` expected type `{field_type}`, got `{current_type}`')"
   ]
  },
  {
   "cell_type": "code",
   "execution_count": 10,
   "id": "e495f133-a1ce-4f6f-90b3-b0c46e135608",
   "metadata": {
    "tags": []
   },
   "outputs": [],
   "source": [
    "@dataclass\n",
    "class Dog(TypeValidated):\n",
    "    name: str\n",
    "    age: int"
   ]
  },
  {
   "cell_type": "code",
   "execution_count": 11,
   "id": "ccafe11d-9678-4aa9-b59f-f71e6d544455",
   "metadata": {
    "tags": []
   },
   "outputs": [
    {
     "ename": "TypeError",
     "evalue": "For field `name` expected type `<class 'str'>`, got `<class 'int'>`",
     "output_type": "error",
     "traceback": [
      "\u001b[0;31m---------------------------------------------------------------------------\u001b[0m",
      "\u001b[0;31mTypeError\u001b[0m                                 Traceback (most recent call last)",
      "Cell \u001b[0;32mIn[11], line 1\u001b[0m\n\u001b[0;32m----> 1\u001b[0m dog \u001b[38;5;241m=\u001b[39m \u001b[43mDog\u001b[49m\u001b[43m(\u001b[49m\u001b[43mname\u001b[49m\u001b[38;5;241;43m=\u001b[39;49m\u001b[38;5;241;43m42\u001b[39;49m\u001b[43m,\u001b[49m\u001b[43m \u001b[49m\u001b[43mage\u001b[49m\u001b[38;5;241;43m=\u001b[39;49m\u001b[38;5;241;43m10\u001b[39;49m\u001b[43m)\u001b[49m\n",
      "File \u001b[0;32m<string>:5\u001b[0m, in \u001b[0;36m__init__\u001b[0;34m(self, name, age)\u001b[0m\n",
      "Cell \u001b[0;32mIn[9], line 8\u001b[0m, in \u001b[0;36mTypeValidated.__post_init__\u001b[0;34m(self)\u001b[0m\n\u001b[1;32m      6\u001b[0m \u001b[38;5;28;01mif\u001b[39;00m \u001b[38;5;129;01mnot\u001b[39;00m \u001b[38;5;28misinstance\u001b[39m(\u001b[38;5;28mself\u001b[39m\u001b[38;5;241m.\u001b[39m\u001b[38;5;18m__dict__\u001b[39m[name], field_type):\n\u001b[1;32m      7\u001b[0m     current_type \u001b[38;5;241m=\u001b[39m \u001b[38;5;28mtype\u001b[39m(\u001b[38;5;28mself\u001b[39m\u001b[38;5;241m.\u001b[39m\u001b[38;5;18m__dict__\u001b[39m[name])\n\u001b[0;32m----> 8\u001b[0m     \u001b[38;5;28;01mraise\u001b[39;00m \u001b[38;5;167;01mTypeError\u001b[39;00m(\u001b[38;5;124mf\u001b[39m\u001b[38;5;124m'\u001b[39m\u001b[38;5;124mFor field `\u001b[39m\u001b[38;5;132;01m{\u001b[39;00mname\u001b[38;5;132;01m}\u001b[39;00m\u001b[38;5;124m` expected type `\u001b[39m\u001b[38;5;132;01m{\u001b[39;00mfield_type\u001b[38;5;132;01m}\u001b[39;00m\u001b[38;5;124m`, got `\u001b[39m\u001b[38;5;132;01m{\u001b[39;00mcurrent_type\u001b[38;5;132;01m}\u001b[39;00m\u001b[38;5;124m`\u001b[39m\u001b[38;5;124m'\u001b[39m)\n",
      "\u001b[0;31mTypeError\u001b[0m: For field `name` expected type `<class 'str'>`, got `<class 'int'>`"
     ]
    }
   ],
   "source": [
    "dog = Dog(name=42, age=10)"
   ]
  },
  {
   "cell_type": "code",
   "execution_count": 12,
   "id": "ec0d21cd-2a0b-4e68-9493-93c496713735",
   "metadata": {
    "tags": []
   },
   "outputs": [],
   "source": [
    "dog = Dog(name='Reksio', age=10)"
   ]
  },
  {
   "cell_type": "code",
   "execution_count": 13,
   "id": "f6904782-9f12-4d6c-8b43-3f38615a1f7d",
   "metadata": {
    "tags": []
   },
   "outputs": [
    {
     "data": {
      "text/plain": [
       "Dog(name='Reksio', age=10)"
      ]
     },
     "execution_count": 13,
     "metadata": {},
     "output_type": "execute_result"
    }
   ],
   "source": [
    "dog"
   ]
  },
  {
   "cell_type": "markdown",
   "id": "f76eb688-621b-4f84-ba50-14f469de5ef0",
   "metadata": {
    "tags": []
   },
   "source": [
    "That's a very basic and general check for fields, but what if you want something more specfic for each field? For example, checking that the name is capitalized and age is not negative."
   ]
  },
  {
   "cell_type": "markdown",
   "id": "3eaea580-a9b1-42d9-9d19-c5ed7a062253",
   "metadata": {},
   "source": [
    "[Descriptors](https://docs.python.org/3/howto/descriptor.html) are typically used for more specific validation of class fields."
   ]
  },
  {
   "cell_type": "code",
   "execution_count": 14,
   "id": "1edf0e88-9d7a-4bae-95c5-284f1d6062dc",
   "metadata": {
    "tags": []
   },
   "outputs": [],
   "source": [
    "from abc import ABC, abstractmethod\n",
    "\n",
    "class Validator(ABC):\n",
    "\n",
    "    def __set_name__(self, owner, name):\n",
    "        self.private_name = '_' + name\n",
    "\n",
    "    def __get__(self, obj, objtype=None):\n",
    "        return getattr(obj, self.private_name)\n",
    "\n",
    "    def __set__(self, obj, value):\n",
    "        self.validate(value)\n",
    "        setattr(obj, self.private_name, value)\n",
    "\n",
    "    @abstractmethod\n",
    "    def validate(self, value):\n",
    "        pass"
   ]
  },
  {
   "cell_type": "code",
   "execution_count": 15,
   "id": "816b9ae5-b264-4d15-b82f-33808b09f8ba",
   "metadata": {
    "tags": []
   },
   "outputs": [],
   "source": [
    "class Number(Validator):\n",
    "\n",
    "    def __init__(self, minvalue=None, maxvalue=None):\n",
    "        self.minvalue = minvalue\n",
    "        self.maxvalue = maxvalue\n",
    "\n",
    "    def validate(self, value):\n",
    "        if not isinstance(value, (int, float)):\n",
    "            raise TypeError(f'Expected {value!r} to be an int or float')\n",
    "        if self.minvalue is not None and value < self.minvalue:\n",
    "            raise ValueError(\n",
    "                f'Expected {value!r} to be at least {self.minvalue!r}'\n",
    "            )\n",
    "        if self.maxvalue is not None and value > self.maxvalue:\n",
    "            raise ValueError(\n",
    "                f'Expected {value!r} to be no more than {self.maxvalue!r}'\n",
    "            )"
   ]
  },
  {
   "cell_type": "code",
   "execution_count": 16,
   "id": "2697bbf8-d3a5-4e71-85b3-732830bb0376",
   "metadata": {
    "tags": []
   },
   "outputs": [],
   "source": [
    "class String(Validator):\n",
    "\n",
    "    def __init__(self, minsize=None, maxsize=None, predicate=None):\n",
    "        self.minsize = minsize\n",
    "        self.maxsize = maxsize\n",
    "        self.predicate = predicate\n",
    "\n",
    "    def validate(self, value):\n",
    "        if not isinstance(value, str):\n",
    "            raise TypeError(f'Expected {value!r} to be an str')\n",
    "        if self.minsize is not None and len(value) < self.minsize:\n",
    "            raise ValueError(\n",
    "                f'Expected {value!r} to be no smaller than {self.minsize!r}'\n",
    "            )\n",
    "        if self.maxsize is not None and len(value) > self.maxsize:\n",
    "            raise ValueError(\n",
    "                f'Expected {value!r} to be no bigger than {self.maxsize!r}'\n",
    "            )\n",
    "        if self.predicate is not None and not self.predicate(value):\n",
    "            raise ValueError(\n",
    "                f'Expected {self.predicate} to be true for {value!r}'\n",
    "            )"
   ]
  },
  {
   "cell_type": "code",
   "execution_count": 17,
   "id": "50cc7168-4f22-4827-920f-05d955dc66d7",
   "metadata": {
    "tags": []
   },
   "outputs": [],
   "source": [
    "@dataclass\n",
    "class Dog(TypeValidated):\n",
    "    name: str = String(predicate=str.capitalize)\n",
    "    age: int = Number(minvalue=0)"
   ]
  },
  {
   "cell_type": "code",
   "execution_count": 18,
   "id": "6f202302-0770-4d56-89e7-83095f38ca19",
   "metadata": {
    "tags": []
   },
   "outputs": [
    {
     "ename": "KeyError",
     "evalue": "'name'",
     "output_type": "error",
     "traceback": [
      "\u001b[0;31m---------------------------------------------------------------------------\u001b[0m",
      "\u001b[0;31mKeyError\u001b[0m                                  Traceback (most recent call last)",
      "Cell \u001b[0;32mIn[18], line 1\u001b[0m\n\u001b[0;32m----> 1\u001b[0m dog \u001b[38;5;241m=\u001b[39m \u001b[43mDog\u001b[49m\u001b[43m(\u001b[49m\u001b[43mname\u001b[49m\u001b[38;5;241;43m=\u001b[39;49m\u001b[38;5;124;43m'\u001b[39;49m\u001b[38;5;124;43mReksio\u001b[39;49m\u001b[38;5;124;43m'\u001b[39;49m\u001b[43m,\u001b[49m\u001b[43m \u001b[49m\u001b[43mage\u001b[49m\u001b[38;5;241;43m=\u001b[39;49m\u001b[38;5;241;43m10\u001b[39;49m\u001b[43m)\u001b[49m\n",
      "File \u001b[0;32m<string>:5\u001b[0m, in \u001b[0;36m__init__\u001b[0;34m(self, name, age)\u001b[0m\n",
      "Cell \u001b[0;32mIn[9], line 6\u001b[0m, in \u001b[0;36mTypeValidated.__post_init__\u001b[0;34m(self)\u001b[0m\n\u001b[1;32m      4\u001b[0m \u001b[38;5;28;01mdef\u001b[39;00m \u001b[38;5;21m__post_init__\u001b[39m(\u001b[38;5;28mself\u001b[39m):\n\u001b[1;32m      5\u001b[0m     \u001b[38;5;28;01mfor\u001b[39;00m name, field_type \u001b[38;5;129;01min\u001b[39;00m \u001b[38;5;28mself\u001b[39m\u001b[38;5;241m.\u001b[39m\u001b[38;5;18m__annotations__\u001b[39m\u001b[38;5;241m.\u001b[39mitems():\n\u001b[0;32m----> 6\u001b[0m         \u001b[38;5;28;01mif\u001b[39;00m \u001b[38;5;129;01mnot\u001b[39;00m \u001b[38;5;28misinstance\u001b[39m(\u001b[38;5;28;43mself\u001b[39;49m\u001b[38;5;241;43m.\u001b[39;49m\u001b[38;5;18;43m__dict__\u001b[39;49m\u001b[43m[\u001b[49m\u001b[43mname\u001b[49m\u001b[43m]\u001b[49m, field_type):\n\u001b[1;32m      7\u001b[0m             current_type \u001b[38;5;241m=\u001b[39m \u001b[38;5;28mtype\u001b[39m(\u001b[38;5;28mself\u001b[39m\u001b[38;5;241m.\u001b[39m\u001b[38;5;18m__dict__\u001b[39m[name])\n\u001b[1;32m      8\u001b[0m             \u001b[38;5;28;01mraise\u001b[39;00m \u001b[38;5;167;01mTypeError\u001b[39;00m(\u001b[38;5;124mf\u001b[39m\u001b[38;5;124m'\u001b[39m\u001b[38;5;124mFor field `\u001b[39m\u001b[38;5;132;01m{\u001b[39;00mname\u001b[38;5;132;01m}\u001b[39;00m\u001b[38;5;124m` expected type `\u001b[39m\u001b[38;5;132;01m{\u001b[39;00mfield_type\u001b[38;5;132;01m}\u001b[39;00m\u001b[38;5;124m`, got `\u001b[39m\u001b[38;5;132;01m{\u001b[39;00mcurrent_type\u001b[38;5;132;01m}\u001b[39;00m\u001b[38;5;124m`\u001b[39m\u001b[38;5;124m'\u001b[39m)\n",
      "\u001b[0;31mKeyError\u001b[0m: 'name'"
     ]
    }
   ],
   "source": [
    "dog = Dog(name='Reksio', age=10)"
   ]
  },
  {
   "cell_type": "markdown",
   "id": "9178af76-89da-43ee-a8e0-bc3db19da85f",
   "metadata": {},
   "source": [
    "Unfortunately, dataclasses and descriptors don't compose well out of the box."
   ]
  },
  {
   "cell_type": "markdown",
   "id": "ca5d2f40-f9da-4ef0-9383-1dafb6a51f2c",
   "metadata": {},
   "source": [
    "There is another way to implement field-specific validation with properties."
   ]
  },
  {
   "cell_type": "code",
   "execution_count": 19,
   "id": "96eb7dfc-6057-428d-af5c-808572a88c09",
   "metadata": {
    "tags": []
   },
   "outputs": [],
   "source": [
    "@dataclass\n",
    "class Dog(TypeValidated):\n",
    "    name: str\n",
    "    age: int\n",
    "    \n",
    "    @property\n",
    "    def name(self):\n",
    "        return self._name\n",
    "    \n",
    "    @name.setter\n",
    "    def name(self, value):\n",
    "        if value != value.capitalize():\n",
    "            raise ValueError(\"Name needs to be capitalized!\")\n",
    "        else:\n",
    "            self._name = value\n",
    "                             \n",
    "    @property\n",
    "    def age(self):\n",
    "        return self._age\n",
    "        \n",
    "    @age.setter\n",
    "    def age(self, value):\n",
    "        if value < 0:\n",
    "            raise ValueError(\"Age cannot be negative!\")\n",
    "        else:\n",
    "            self._age = value"
   ]
  },
  {
   "cell_type": "code",
   "execution_count": 20,
   "id": "0d93ab5e-83e5-47fd-9b69-011375811eba",
   "metadata": {
    "tags": []
   },
   "outputs": [
    {
     "ename": "ValueError",
     "evalue": "Name needs to be capitalized!",
     "output_type": "error",
     "traceback": [
      "\u001b[0;31m---------------------------------------------------------------------------\u001b[0m",
      "\u001b[0;31mValueError\u001b[0m                                Traceback (most recent call last)",
      "Cell \u001b[0;32mIn[20], line 1\u001b[0m\n\u001b[0;32m----> 1\u001b[0m dog \u001b[38;5;241m=\u001b[39m \u001b[43mDog\u001b[49m\u001b[43m(\u001b[49m\u001b[43mname\u001b[49m\u001b[38;5;241;43m=\u001b[39;49m\u001b[38;5;124;43m'\u001b[39;49m\u001b[38;5;124;43mreksio\u001b[39;49m\u001b[38;5;124;43m'\u001b[39;49m\u001b[43m,\u001b[49m\u001b[43m \u001b[49m\u001b[43mage\u001b[49m\u001b[38;5;241;43m=\u001b[39;49m\u001b[38;5;241;43m10\u001b[39;49m\u001b[43m)\u001b[49m\n",
      "File \u001b[0;32m<string>:3\u001b[0m, in \u001b[0;36m__init__\u001b[0;34m(self, name, age)\u001b[0m\n",
      "Cell \u001b[0;32mIn[19], line 13\u001b[0m, in \u001b[0;36mDog.name\u001b[0;34m(self, value)\u001b[0m\n\u001b[1;32m     10\u001b[0m \u001b[38;5;129m@name\u001b[39m\u001b[38;5;241m.\u001b[39msetter\n\u001b[1;32m     11\u001b[0m \u001b[38;5;28;01mdef\u001b[39;00m \u001b[38;5;21mname\u001b[39m(\u001b[38;5;28mself\u001b[39m, value):\n\u001b[1;32m     12\u001b[0m     \u001b[38;5;28;01mif\u001b[39;00m value \u001b[38;5;241m!=\u001b[39m value\u001b[38;5;241m.\u001b[39mcapitalize():\n\u001b[0;32m---> 13\u001b[0m         \u001b[38;5;28;01mraise\u001b[39;00m \u001b[38;5;167;01mValueError\u001b[39;00m(\u001b[38;5;124m\"\u001b[39m\u001b[38;5;124mName needs to be capitalized!\u001b[39m\u001b[38;5;124m\"\u001b[39m)\n\u001b[1;32m     14\u001b[0m     \u001b[38;5;28;01melse\u001b[39;00m:\n\u001b[1;32m     15\u001b[0m         \u001b[38;5;28mself\u001b[39m\u001b[38;5;241m.\u001b[39m_name \u001b[38;5;241m=\u001b[39m value\n",
      "\u001b[0;31mValueError\u001b[0m: Name needs to be capitalized!"
     ]
    }
   ],
   "source": [
    "dog = Dog(name='reksio', age=10)"
   ]
  },
  {
   "cell_type": "code",
   "execution_count": 21,
   "id": "902e6c49-fa72-46a4-af5d-774091ad1a0a",
   "metadata": {
    "tags": []
   },
   "outputs": [
    {
     "ename": "ValueError",
     "evalue": "Name needs to be capitalized!",
     "output_type": "error",
     "traceback": [
      "\u001b[0;31m---------------------------------------------------------------------------\u001b[0m",
      "\u001b[0;31mValueError\u001b[0m                                Traceback (most recent call last)",
      "Cell \u001b[0;32mIn[21], line 1\u001b[0m\n\u001b[0;32m----> 1\u001b[0m dog \u001b[38;5;241m=\u001b[39m \u001b[43mDog\u001b[49m\u001b[43m(\u001b[49m\u001b[43mname\u001b[49m\u001b[38;5;241;43m=\u001b[39;49m\u001b[38;5;124;43m'\u001b[39;49m\u001b[38;5;124;43mreksio\u001b[39;49m\u001b[38;5;124;43m'\u001b[39;49m\u001b[43m,\u001b[49m\u001b[43m \u001b[49m\u001b[43mage\u001b[49m\u001b[38;5;241;43m=\u001b[39;49m\u001b[38;5;241;43m-\u001b[39;49m\u001b[38;5;241;43m1\u001b[39;49m\u001b[43m)\u001b[49m\n",
      "File \u001b[0;32m<string>:3\u001b[0m, in \u001b[0;36m__init__\u001b[0;34m(self, name, age)\u001b[0m\n",
      "Cell \u001b[0;32mIn[19], line 13\u001b[0m, in \u001b[0;36mDog.name\u001b[0;34m(self, value)\u001b[0m\n\u001b[1;32m     10\u001b[0m \u001b[38;5;129m@name\u001b[39m\u001b[38;5;241m.\u001b[39msetter\n\u001b[1;32m     11\u001b[0m \u001b[38;5;28;01mdef\u001b[39;00m \u001b[38;5;21mname\u001b[39m(\u001b[38;5;28mself\u001b[39m, value):\n\u001b[1;32m     12\u001b[0m     \u001b[38;5;28;01mif\u001b[39;00m value \u001b[38;5;241m!=\u001b[39m value\u001b[38;5;241m.\u001b[39mcapitalize():\n\u001b[0;32m---> 13\u001b[0m         \u001b[38;5;28;01mraise\u001b[39;00m \u001b[38;5;167;01mValueError\u001b[39;00m(\u001b[38;5;124m\"\u001b[39m\u001b[38;5;124mName needs to be capitalized!\u001b[39m\u001b[38;5;124m\"\u001b[39m)\n\u001b[1;32m     14\u001b[0m     \u001b[38;5;28;01melse\u001b[39;00m:\n\u001b[1;32m     15\u001b[0m         \u001b[38;5;28mself\u001b[39m\u001b[38;5;241m.\u001b[39m_name \u001b[38;5;241m=\u001b[39m value\n",
      "\u001b[0;31mValueError\u001b[0m: Name needs to be capitalized!"
     ]
    }
   ],
   "source": [
    "dog = Dog(name='reksio', age=-1)"
   ]
  },
  {
   "cell_type": "code",
   "execution_count": 22,
   "id": "04924e52-a440-46be-96c4-8d9181008c2d",
   "metadata": {
    "tags": []
   },
   "outputs": [
    {
     "ename": "KeyError",
     "evalue": "'name'",
     "output_type": "error",
     "traceback": [
      "\u001b[0;31m---------------------------------------------------------------------------\u001b[0m",
      "\u001b[0;31mKeyError\u001b[0m                                  Traceback (most recent call last)",
      "Cell \u001b[0;32mIn[22], line 1\u001b[0m\n\u001b[0;32m----> 1\u001b[0m dog \u001b[38;5;241m=\u001b[39m \u001b[43mDog\u001b[49m\u001b[43m(\u001b[49m\u001b[43mname\u001b[49m\u001b[38;5;241;43m=\u001b[39;49m\u001b[38;5;124;43m'\u001b[39;49m\u001b[38;5;124;43mReksio\u001b[39;49m\u001b[38;5;124;43m'\u001b[39;49m\u001b[43m,\u001b[49m\u001b[43m \u001b[49m\u001b[43mage\u001b[49m\u001b[38;5;241;43m=\u001b[39;49m\u001b[38;5;241;43m10\u001b[39;49m\u001b[43m)\u001b[49m\n",
      "File \u001b[0;32m<string>:5\u001b[0m, in \u001b[0;36m__init__\u001b[0;34m(self, name, age)\u001b[0m\n",
      "Cell \u001b[0;32mIn[9], line 6\u001b[0m, in \u001b[0;36mTypeValidated.__post_init__\u001b[0;34m(self)\u001b[0m\n\u001b[1;32m      4\u001b[0m \u001b[38;5;28;01mdef\u001b[39;00m \u001b[38;5;21m__post_init__\u001b[39m(\u001b[38;5;28mself\u001b[39m):\n\u001b[1;32m      5\u001b[0m     \u001b[38;5;28;01mfor\u001b[39;00m name, field_type \u001b[38;5;129;01min\u001b[39;00m \u001b[38;5;28mself\u001b[39m\u001b[38;5;241m.\u001b[39m\u001b[38;5;18m__annotations__\u001b[39m\u001b[38;5;241m.\u001b[39mitems():\n\u001b[0;32m----> 6\u001b[0m         \u001b[38;5;28;01mif\u001b[39;00m \u001b[38;5;129;01mnot\u001b[39;00m \u001b[38;5;28misinstance\u001b[39m(\u001b[38;5;28;43mself\u001b[39;49m\u001b[38;5;241;43m.\u001b[39;49m\u001b[38;5;18;43m__dict__\u001b[39;49m\u001b[43m[\u001b[49m\u001b[43mname\u001b[49m\u001b[43m]\u001b[49m, field_type):\n\u001b[1;32m      7\u001b[0m             current_type \u001b[38;5;241m=\u001b[39m \u001b[38;5;28mtype\u001b[39m(\u001b[38;5;28mself\u001b[39m\u001b[38;5;241m.\u001b[39m\u001b[38;5;18m__dict__\u001b[39m[name])\n\u001b[1;32m      8\u001b[0m             \u001b[38;5;28;01mraise\u001b[39;00m \u001b[38;5;167;01mTypeError\u001b[39;00m(\u001b[38;5;124mf\u001b[39m\u001b[38;5;124m'\u001b[39m\u001b[38;5;124mFor field `\u001b[39m\u001b[38;5;132;01m{\u001b[39;00mname\u001b[38;5;132;01m}\u001b[39;00m\u001b[38;5;124m` expected type `\u001b[39m\u001b[38;5;132;01m{\u001b[39;00mfield_type\u001b[38;5;132;01m}\u001b[39;00m\u001b[38;5;124m`, got `\u001b[39m\u001b[38;5;132;01m{\u001b[39;00mcurrent_type\u001b[38;5;132;01m}\u001b[39;00m\u001b[38;5;124m`\u001b[39m\u001b[38;5;124m'\u001b[39m)\n",
      "\u001b[0;31mKeyError\u001b[0m: 'name'"
     ]
    }
   ],
   "source": [
    "dog = Dog(name='Reksio', age=10)"
   ]
  },
  {
   "cell_type": "markdown",
   "id": "92f61a27-122a-4470-b388-8a3ff6d7cca0",
   "metadata": {},
   "source": [
    "This looks like the same problem as with descriptors. \n",
    "It is a bit more approachable here as we are clearly validating underlying attributes that are prefixed with underscore.\n",
    "The issue is coming form `__post_init__` and we can fix it."
   ]
  },
  {
   "cell_type": "code",
   "execution_count": 23,
   "id": "81de3a87-ccf6-4b98-ac3d-b5979a9fa3e2",
   "metadata": {
    "tags": []
   },
   "outputs": [],
   "source": [
    "@dataclass\n",
    "class TypeValidated:\n",
    "    \"\"\"Raise TypeError if instantiated with incorrect type.\"\"\"\n",
    "    def __post_init__(self):\n",
    "        for name, field_type in self.__annotations__.items():\n",
    "            try:\n",
    "                if not isinstance(self.__dict__[name], field_type):\n",
    "                    current_type = type(self.__dict__[name])\n",
    "                    raise TypeError(f'For field `{name}` expected type `{field_type}`, got `{current_type}`')\n",
    "            except KeyError:\n",
    "                if not isinstance(self.__dict__[\"_\" + name], field_type):\n",
    "                    current_type = type(self.__dict__[\"_\" + name])\n",
    "                    raise TypeError(f'For field `{name}` expected type `{field_type}`, got `{current_type}`')"
   ]
  },
  {
   "cell_type": "code",
   "execution_count": 24,
   "id": "da6621a7-a51b-4f41-9abf-e711befeaed3",
   "metadata": {
    "tags": []
   },
   "outputs": [],
   "source": [
    "@dataclass\n",
    "class Dog(TypeValidated):\n",
    "    name: str\n",
    "    age: int\n",
    "    \n",
    "    @property\n",
    "    def name(self):\n",
    "        return self._name\n",
    "    \n",
    "    @name.setter\n",
    "    def name(self, value):\n",
    "        if value != value.capitalize():\n",
    "            raise ValueError(\"Name needs to be capitalized!\")\n",
    "        else:\n",
    "            self._name = value\n",
    "                             \n",
    "    @property\n",
    "    def age(self):\n",
    "        return self._age\n",
    "        \n",
    "    @age.setter\n",
    "    def age(self, value):\n",
    "        if value < 0:\n",
    "            raise ValueError(\"Age cannot be negative!\")\n",
    "        else:\n",
    "            self._age = value"
   ]
  },
  {
   "cell_type": "code",
   "execution_count": 25,
   "id": "4f36ec5e-3f1d-4f14-adbb-96711c05b7b0",
   "metadata": {
    "tags": []
   },
   "outputs": [],
   "source": [
    "dog = Dog(name='Reksio', age=10)"
   ]
  },
  {
   "cell_type": "code",
   "execution_count": 26,
   "id": "bb0d0337-1c6b-403a-9a75-d4405ddf51ac",
   "metadata": {
    "tags": []
   },
   "outputs": [
    {
     "data": {
      "text/plain": [
       "Dog(name='Reksio', age=10)"
      ]
     },
     "execution_count": 26,
     "metadata": {},
     "output_type": "execute_result"
    }
   ],
   "source": [
    "dog"
   ]
  }
 ],
 "metadata": {
  "kernelspec": {
   "display_name": "Python 3 (ipykernel)",
   "language": "python",
   "name": "python3"
  },
  "language_info": {
   "codemirror_mode": {
    "name": "ipython",
    "version": 3
   },
   "file_extension": ".py",
   "mimetype": "text/x-python",
   "name": "python",
   "nbconvert_exporter": "python",
   "pygments_lexer": "ipython3",
   "version": "3.10.8"
  }
 },
 "nbformat": 4,
 "nbformat_minor": 5
}
